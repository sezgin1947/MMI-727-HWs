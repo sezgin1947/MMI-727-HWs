{
  "nbformat": 4,
  "nbformat_minor": 0,
  "metadata": {
    "anaconda-cloud": {},
    "kernelspec": {
      "name": "python3",
      "display_name": "Python 3"
    },
    "language_info": {
      "codemirror_mode": {
        "name": "ipython",
        "version": 3
      },
      "file_extension": ".py",
      "mimetype": "text/x-python",
      "name": "python",
      "nbconvert_exporter": "python",
      "pygments_lexer": "ipython3",
      "version": "3.5.4"
    },
    "colab": {
      "name": "hw2_Question 3_2.ipynb",
      "provenance": [],
      "collapsed_sections": []
    },
    "accelerator": "GPU"
  },
  "cells": [
    {
      "cell_type": "markdown",
      "metadata": {
        "id": "ALYv9MueCwsn",
        "colab_type": "text"
      },
      "source": [
        "# 3. Convolutional Neural Networks (60 pts)"
      ]
    },
    {
      "cell_type": "markdown",
      "metadata": {
        "id": "lpk-UgW9Cwsn",
        "colab_type": "text"
      },
      "source": [
        "### Implement the convolutional neural network shown below for CIFAR-10 dataset.  Your code must follow these rules:\n",
        "\n",
        "__- Use your own implementation.__\n",
        "\n",
        "__- You can only use \" tf \" and \" tf.nn \" libraries for version 1 (40 pts). Check [tf.nn](https://www.tensorflow.org/versions/r1.15/api_docs/python/tf/nn)__\n",
        "\n",
        "__- You can use \" tf.layers \" library for version 2 (20 pts). Check [tf.layers](https://www.tensorflow.org/versions/r1.15/api_docs/python/tf/layers)__\n",
        "\n",
        "__- Use ReLU activation function__\n",
        "\n",
        "__- Use batch normalization for convolutional layers__\n",
        "\n",
        "__- Use dropout for fully connected layers (for training only)__\n",
        "\n",
        "__- Write necessary explanations for each cell. Explanations should be detailed.__\n",
        "\n",
        "__- You can use codes from Lab Notebook.__\n",
        "\n",
        "__- (OPTIONAL) You can add more layers or use different methods for better accuracy. If you want, send an another notebook file with better accuracy for bonus points.__"
      ]
    },
    {
      "cell_type": "markdown",
      "metadata": {
        "id": "D5bOUxQKCwso",
        "colab_type": "text"
      },
      "source": [
        "<img src=\"https://github.com/METU-MMI-DeepLearning/MMI713_Deep_Learning/blob/master/Assignment%202/model.png?raw=1\">"
      ]
    },
    {
      "cell_type": "markdown",
      "metadata": {
        "id": "bE3ltKqWCwsp",
        "colab_type": "text"
      },
      "source": [
        "## Imports"
      ]
    },
    {
      "cell_type": "code",
      "metadata": {
        "id": "Yqgg8OMlCwsp",
        "colab_type": "code",
        "outputId": "634a0392-fad9-45df-e74d-479b223f75dd",
        "colab": {
          "base_uri": "https://localhost:8080/",
          "height": 80
        }
      },
      "source": [
        "import tensorflow as tf\n",
        "import numpy as np\n",
        "import matplotlib.pyplot as plt\n",
        "%matplotlib inline"
      ],
      "execution_count": 1,
      "outputs": [
        {
          "output_type": "display_data",
          "data": {
            "text/html": [
              "<p style=\"color: red;\">\n",
              "The default version of TensorFlow in Colab will soon switch to TensorFlow 2.x.<br>\n",
              "We recommend you <a href=\"https://www.tensorflow.org/guide/migrate\" target=\"_blank\">upgrade</a> now \n",
              "or ensure your notebook will continue to use TensorFlow 1.x via the <code>%tensorflow_version 1.x</code> magic:\n",
              "<a href=\"https://colab.research.google.com/notebooks/tensorflow_version.ipynb\" target=\"_blank\">more info</a>.</p>\n"
            ],
            "text/plain": [
              "<IPython.core.display.HTML object>"
            ]
          },
          "metadata": {
            "tags": []
          }
        }
      ]
    },
    {
      "cell_type": "markdown",
      "metadata": {
        "id": "bEOoMK_ZCwsr",
        "colab_type": "text"
      },
      "source": [
        "## Load Data\n",
        "\n",
        "You can normalize input data \"x\" if needed. You can use \"np.squeeze\" to remove single-dimensional entries from the shape of an array. You probably need to convert labels \"y\" to one-hot vector for loss function."
      ]
    },
    {
      "cell_type": "code",
      "metadata": {
        "id": "7YL3QdYjCwsr",
        "colab_type": "code",
        "outputId": "b617a833-f655-484f-c8d6-29259f0d41c9",
        "colab": {
          "base_uri": "https://localhost:8080/",
          "height": 170
        }
      },
      "source": [
        "(x_train, y_train), (x_test, y_test) = tf.keras.datasets.cifar10.load_data()\n",
        "print(x_train.shape)\n",
        "x_train = x_train / 255\n",
        "x_test = x_test / 255   # place input values between 0-1\n",
        "\n",
        "y_train = tf.one_hot(np.squeeze(y_train),10)  #implement one-hot dec. for labels\n",
        "y_test = tf.one_hot(np.squeeze(y_test),10)\n",
        "y_train_cls = tf.argmax(y_train, axis=1)  #get the classes as single guesses\n",
        "y_test_cls = tf.argmax(y_test, axis=1)\n",
        "\n",
        "session = tf.Session()  \n",
        "y_train = y_train.eval(session=session) #datatype conversion from tensor to np.ndarray\n",
        "y_train_cls = y_train_cls.eval(session=session)\n",
        "y_test = y_test.eval(session=session)\n",
        "y_test_cls = y_test_cls.eval(session=session)\n",
        "\n",
        "x_train = x_train.astype(np.float32)  #placeholders are float32 hence, convert them\n",
        "x_test = x_test.astype(np.float32)\n",
        "print(type(x_train[0,1,1,1])) #debug prints\n",
        "print(type(x_test[0,1,17,1]))\n",
        "print(type(y_train[0,1]))\n",
        "print(type(y_test[0,1]))\n",
        "print(type(y_test_cls[0]))\n",
        "print(y_train.shape)\n",
        "print(y_test.shape)\n",
        "print(y_test_cls.shape)"
      ],
      "execution_count": 2,
      "outputs": [
        {
          "output_type": "stream",
          "text": [
            "(50000, 32, 32, 3)\n",
            "<class 'numpy.float32'>\n",
            "<class 'numpy.float32'>\n",
            "<class 'numpy.float32'>\n",
            "<class 'numpy.float32'>\n",
            "<class 'numpy.int64'>\n",
            "(50000, 10)\n",
            "(10000, 10)\n",
            "(10000,)\n"
          ],
          "name": "stdout"
        }
      ]
    },
    {
      "cell_type": "markdown",
      "metadata": {
        "id": "l7gS1DR4Cwst",
        "colab_type": "text"
      },
      "source": [
        "## Define placeholders\n",
        "\n",
        "Define input and output placeholders. It is a good idea to pass dropout rate also as a placeholder."
      ]
    },
    {
      "cell_type": "code",
      "metadata": {
        "id": "t2NkMH2HCwsu",
        "colab_type": "code",
        "colab": {}
      },
      "source": [
        "x = tf.placeholder(tf.float32, [None, 32,32,3]) #placeholder for input\n",
        "y_true = tf.placeholder(tf.float32, [None, 10]) #placeholder for label in order to use in error mtrx. calc.\n",
        "y_true_cls = tf.placeholder(tf.int64, [None]) #placeholder for class guesses\n",
        "dropout_rate = tf.placeholder(tf.float32) #dropout rate\n",
        "training_flag = tf.placeholder(tf.bool)  # flag for test and training"
      ],
      "execution_count": 0,
      "outputs": []
    },
    {
      "cell_type": "markdown",
      "metadata": {
        "id": "pRPDkWo4Cwsv",
        "colab_type": "text"
      },
      "source": [
        "## Define variables\n",
        "\n",
        "Define filters for convolutional layers, weights and biases for fully connected layers. Don't forget to use a initializer. Xavier is recommended."
      ]
    },
    {
      "cell_type": "code",
      "metadata": {
        "id": "X6Tx0QNyCwsw",
        "colab_type": "code",
        "colab": {}
      },
      "source": [
        "conv1 = tf.get_variable(\"conv1\", shape=[5,5,3,32], initializer=tf.glorot_normal_initializer())\n",
        "padding_conv1 = \"SAME\"\n",
        "stride_conv1 = [1,1]  #1st conv layer, filters have size 5x5x3. 32 filters in this layer\n",
        "\n",
        "window1 = [3,3]   #1st pooling layer\n",
        "padding_pool1 =\"SAME\"\n",
        "pooling_type1 = \"AVG\" #average pooling\n",
        "stride_pool1 =  [2,2] #stride size 2 in each direction\n",
        "\n",
        "conv2 = tf.get_variable(\"conv2\", shape=[5,5,32,16], initializer=tf.glorot_normal_initializer())\n",
        "padding_conv2 = \"SAME\"\n",
        "stride_conv2 = [1,1]  #2nd conv layer filters sized 5x5x32, 16 total filters\n",
        "\n",
        "window2 = [3,3]\n",
        "padding_pool2 = \"SAME\"\n",
        "pooling_type2 = \"AVG\"\n",
        "stride_pool2 = [2,2]  #2nd pooling layer\n",
        "\n",
        "conv3 = tf.get_variable(\"conv3\", shape=[5,5,16,32], initializer=tf.glorot_normal_initializer())\n",
        "padding_conv3 = \"SAME\"\n",
        "stride_conv3 = [1,1]  #3rd conv layer\n",
        "\n",
        "window3 = [3,3]\n",
        "padding_pool3 = \"SAME\"\n",
        "pooling_type3 = \"AVG\"\n",
        "stride_pool3 = [2,2]  #3rd pooling layer\n",
        "\n",
        "#weights1 = tf.get_variable(\"weights1\", shape=(32*4*4,128), initializer = tf.random_normal_initializer())\n",
        "#weights2 = tf.get_variable(\"weights2\", shape=(128,10), initializer = tf.random_normal_initializer())\n",
        "weights1 = tf.Variable(tf.random.uniform([32*4*4,128])) #weights for 1st fc layer\n",
        "weights2 = tf.Variable(tf.random.uniform([128,10])) # weights for 2nd fc layer\n",
        "#bias1 = tf.get_variable(\"bias1\", shape= (128), initializer = tf.zeros_initializer())\n",
        "#bias2 = tf.get_variable(\"bias2\", shape= (10), initializer = tf.zeros_initializer())\n",
        "bias1 = tf.Variable(tf.zeros([128]))  #biases of first fc layer\n",
        "bias2 = tf.Variable(tf.zeros([10]))   # biases of second fc layer"
      ],
      "execution_count": 0,
      "outputs": []
    },
    {
      "cell_type": "markdown",
      "metadata": {
        "id": "-D7ZiydvCwsx",
        "colab_type": "text"
      },
      "source": [
        "## Define network\n",
        "\n",
        "Define the network as a function.Recommended functions are:\n",
        "\n",
        "`\n",
        "tf.nn.convolution / tf.nn.pool / tf.nn.batch_normalization / tf.nn.dropout / tf.reshape`"
      ]
    },
    {
      "cell_type": "code",
      "metadata": {
        "id": "uglLHBb7Cwsx",
        "colab_type": "code",
        "outputId": "65a1ca51-69b4-46a7-c0ec-20bf6e639998",
        "colab": {
          "base_uri": "https://localhost:8080/",
          "height": 479
        }
      },
      "source": [
        "def netw0rk(x,dropout_rate,training_flag):\n",
        "    nn_1 = tf.layers.conv2d(x, 32, [5,5], [1,1], padding=\"SAME\", #5x5 spatial size filters, 32 total filters, stride 1.\n",
        "                          kernel_initializer= tf.contrib.layers.xavier_initializer()) #filters init. with xavier init.\n",
        "    nn_2 = tf.contrib.layers.batch_norm(nn_1) # batch normalization\n",
        "    nn_3 = tf.nn.relu(nn_2) # relut activation layer\n",
        "    nn_4 = tf.layers.average_pooling2d(nn_3, pool_size=[3,3], strides=[2,2], padding=\"SAME\") #average pooling with 3,3 window and 2,2 stride size\n",
        "\n",
        "    nn_5 = tf.layers.conv2d(nn_4, 16, [5,5], [1,1], padding=\"SAME\",\n",
        "                          kernel_initializer= tf.contrib.layers.xavier_initializer())\n",
        "    nn_6 = tf.contrib.layers.batch_norm(nn_5)\n",
        "    nn_7 = tf.nn.relu(nn_6)\n",
        "    nn_8 = tf.layers.average_pooling2d(nn_7, pool_size=[3,3], strides=[2,2], padding=\"SAME\")\n",
        "\n",
        "    nn_9 = tf.layers.conv2d(nn_8, 32, [5,5], [1,1], padding=\"SAME\",\n",
        "                          kernel_initializer= tf.contrib.layers.xavier_initializer())\n",
        "    nn_10 = tf.contrib.layers.batch_norm(nn_9)\n",
        "    nn_11 = tf.nn.relu(nn_10)\n",
        "    nn_12 = tf.layers.average_pooling2d(nn_11, pool_size=[3,3], strides=[2,2], padding=\"SAME\")\n",
        "\n",
        "    nn_13 = tf.contrib.layers.flatten(nn_12)\n",
        "\n",
        "    nn_14 = tf.layers.dense(nn_13,128)\n",
        "    nn_15 = tf.layers.dropout(nn_14, rate = dropout_rate, training=training_flag)\n",
        "    nn_16 = tf.nn.relu(nn_15)\n",
        "    nn_17 = tf.layers.dense(nn_16,10)\n",
        "    return  nn_17\n",
        "\n",
        "logits = netw0rk(x, dropout_rate, training_flag)  \n",
        "y_pred = tf.nn.softmax(logits)  #calculate output pred.\n",
        "y_pred_cls = tf.argmax(y_pred, axis=1)\n"
      ],
      "execution_count": 5,
      "outputs": [
        {
          "output_type": "stream",
          "text": [
            "WARNING:tensorflow:\n",
            "The TensorFlow contrib module will not be included in TensorFlow 2.0.\n",
            "For more information, please see:\n",
            "  * https://github.com/tensorflow/community/blob/master/rfcs/20180907-contrib-sunset.md\n",
            "  * https://github.com/tensorflow/addons\n",
            "  * https://github.com/tensorflow/io (for I/O related ops)\n",
            "If you depend on functionality not listed there, please file an issue.\n",
            "\n",
            "WARNING:tensorflow:From <ipython-input-5-cc01a905bac3>:3: conv2d (from tensorflow.python.layers.convolutional) is deprecated and will be removed in a future version.\n",
            "Instructions for updating:\n",
            "Use `tf.keras.layers.Conv2D` instead.\n",
            "WARNING:tensorflow:From /usr/local/lib/python3.6/dist-packages/tensorflow_core/python/layers/convolutional.py:424: Layer.apply (from tensorflow.python.keras.engine.base_layer) is deprecated and will be removed in a future version.\n",
            "Instructions for updating:\n",
            "Please use `layer.__call__` method instead.\n",
            "WARNING:tensorflow:From <ipython-input-5-cc01a905bac3>:6: average_pooling2d (from tensorflow.python.layers.pooling) is deprecated and will be removed in a future version.\n",
            "Instructions for updating:\n",
            "Use keras.layers.AveragePooling2D instead.\n",
            "WARNING:tensorflow:From /usr/local/lib/python3.6/dist-packages/tensorflow_core/contrib/layers/python/layers/layers.py:1634: flatten (from tensorflow.python.layers.core) is deprecated and will be removed in a future version.\n",
            "Instructions for updating:\n",
            "Use keras.layers.flatten instead.\n",
            "WARNING:tensorflow:From <ipython-input-5-cc01a905bac3>:22: dense (from tensorflow.python.layers.core) is deprecated and will be removed in a future version.\n",
            "Instructions for updating:\n",
            "Use keras.layers.Dense instead.\n",
            "WARNING:tensorflow:From <ipython-input-5-cc01a905bac3>:23: dropout (from tensorflow.python.layers.core) is deprecated and will be removed in a future version.\n",
            "Instructions for updating:\n",
            "Use keras.layers.dropout instead.\n"
          ],
          "name": "stdout"
        }
      ]
    },
    {
      "cell_type": "markdown",
      "metadata": {
        "id": "yYHUDRlVCwsz",
        "colab_type": "text"
      },
      "source": [
        "## Define cost function\n",
        "\n",
        "Define cost with respect to predictions and labels."
      ]
    },
    {
      "cell_type": "code",
      "metadata": {
        "id": "Y3y1d0C0Cwsz",
        "colab_type": "code",
        "outputId": "5cd1335f-fcc4-4200-d853-396f2d837d08",
        "colab": {
          "base_uri": "https://localhost:8080/",
          "height": 173
        }
      },
      "source": [
        "cross_entropy = tf.nn.softmax_cross_entropy_with_logits(logits=logits,    #calc. loss between result and labels\n",
        "                                                        labels=y_true)\n",
        "cost = tf.reduce_mean(cross_entropy)  #cost function"
      ],
      "execution_count": 6,
      "outputs": [
        {
          "output_type": "stream",
          "text": [
            "WARNING:tensorflow:From <ipython-input-6-5e5775ad1444>:2: softmax_cross_entropy_with_logits (from tensorflow.python.ops.nn_ops) is deprecated and will be removed in a future version.\n",
            "Instructions for updating:\n",
            "\n",
            "Future major versions of TensorFlow will allow gradients to flow\n",
            "into the labels input on backprop by default.\n",
            "\n",
            "See `tf.nn.softmax_cross_entropy_with_logits_v2`.\n",
            "\n"
          ],
          "name": "stdout"
        }
      ]
    },
    {
      "cell_type": "markdown",
      "metadata": {
        "id": "51EwRVaNCws1",
        "colab_type": "text"
      },
      "source": [
        "## Define optimizer\n",
        "\n",
        "Adam is recommended"
      ]
    },
    {
      "cell_type": "code",
      "metadata": {
        "id": "r7_ZeOlTCws1",
        "colab_type": "code",
        "colab": {}
      },
      "source": [
        "optimizer = tf.train.AdamOptimizer(learning_rate=0.0005).minimize(cost) #adam optimizer"
      ],
      "execution_count": 0,
      "outputs": []
    },
    {
      "cell_type": "markdown",
      "metadata": {
        "id": "Z9D4Ook2Cws2",
        "colab_type": "text"
      },
      "source": [
        "## Define performance measures"
      ]
    },
    {
      "cell_type": "code",
      "metadata": {
        "id": "VDNLQR0_Cws3",
        "colab_type": "code",
        "colab": {}
      },
      "source": [
        "correct_prediction = tf.equal(y_pred_cls, y_true_cls)\n",
        "accuracy = tf.reduce_mean(tf.cast(correct_prediction, tf.float32))  #data flow elements for perf. measurement"
      ],
      "execution_count": 0,
      "outputs": []
    },
    {
      "cell_type": "markdown",
      "metadata": {
        "id": "7CWFb6DECws4",
        "colab_type": "text"
      },
      "source": [
        "## Create TensorFlow session\n"
      ]
    },
    {
      "cell_type": "code",
      "metadata": {
        "id": "nxmAkz_2Cws5",
        "colab_type": "code",
        "colab": {}
      },
      "source": [
        "#session = tf.Session() # commented since already started in 1st cell"
      ],
      "execution_count": 0,
      "outputs": []
    },
    {
      "cell_type": "markdown",
      "metadata": {
        "id": "LiFHxELICws7",
        "colab_type": "text"
      },
      "source": [
        "## Initialize variables\n",
        "\n",
        "The variables for `weights`,`filters` and `biases` must be initialized before we start optimizing them."
      ]
    },
    {
      "cell_type": "code",
      "metadata": {
        "id": "7XV9pysJCws7",
        "colab_type": "code",
        "colab": {}
      },
      "source": [
        "session.run(tf.global_variables_initializer())"
      ],
      "execution_count": 0,
      "outputs": []
    },
    {
      "cell_type": "markdown",
      "metadata": {
        "id": "1F_36zpCCws9",
        "colab_type": "text"
      },
      "source": [
        "## Define train function\n",
        "\n",
        "Don't forget to use batches since dataset is large."
      ]
    },
    {
      "cell_type": "markdown",
      "metadata": {
        "id": "9q6PSUYpCws9",
        "colab_type": "text"
      },
      "source": [
        "Hint : One of the simplest way to define batch is\n",
        "\n",
        "`for b in range(dataset_size//batch_size):      \n",
        "    x_batch = x_train[b * batch_size : (b+1) * batch_size]`"
      ]
    },
    {
      "cell_type": "code",
      "metadata": {
        "id": "TDrXnOiDE-TO",
        "colab_type": "code",
        "colab": {}
      },
      "source": [
        "def train(batch_size = 100):\n",
        "    correct_pred_array = []\n",
        "    for b in range(x_train.shape[0]//batch_size):      \n",
        "        x_batch = x_train[b * batch_size : (b+1) * batch_size]\n",
        "        y_true_batch = y_train[b * batch_size : (b+1) * batch_size, :]\n",
        "        y_train_cls_batch = y_train_cls[b * batch_size : (b+1) * batch_size]  # Class pred also fed in order to get accuracy for train_acc graph\n",
        "        feed_dict_train = {x: x_batch,\n",
        "                          y_true: y_true_batch,\n",
        "                          dropout_rate : 0.4,\n",
        "                          training_flag : True}\n",
        "        opt, cls_pred = session.run([optimizer, y_pred_cls], feed_dict=feed_dict_train)\n",
        "        # Run the model to get predictions for test data\n",
        "        # Get true labels\n",
        "        cls_true = y_train_cls_batch\n",
        "        # Calculate the difference betweeb predictions and true labels\n",
        "        correct_prediction = np.equal(cls_pred, cls_true)\n",
        "        correct_pred_array.append( np.mean(correct_prediction))\n",
        "        # Calculate the total accuracy\n",
        "        \n",
        "    return np.mean(correct_pred_array)"
      ],
      "execution_count": 0,
      "outputs": []
    },
    {
      "cell_type": "markdown",
      "metadata": {
        "id": "zhxmS0YlCws_",
        "colab_type": "text"
      },
      "source": [
        "## Define test function"
      ]
    },
    {
      "cell_type": "code",
      "metadata": {
        "id": "WDQQNV3-CwtA",
        "colab_type": "code",
        "colab": {}
      },
      "source": [
        "feed_dict_test = {x: x_test,    #feed placeholders with proper variables.\n",
        "                  y_true: y_test,\n",
        "                  y_true_cls: y_test_cls,\n",
        "                  dropout_rate : 0.01,\n",
        "                  training_flag : False}  #test_training = 0 network should work for inference not for training\n",
        "def test():\n",
        "    # Run the model to get predictions for test data\n",
        "    cls_pred = session.run(y_pred_cls, feed_dict=feed_dict_test)\n",
        "    \n",
        "    # Get true labels\n",
        "    cls_true = y_test_cls\n",
        "    \n",
        "    # Calculate the difference betweeb predictions and true labels\n",
        "    correct_prediction = np.equal(cls_pred, cls_true)\n",
        "    \n",
        "    # Calculate the total accuracy\n",
        "    acc = np.mean(correct_prediction)\n",
        "    return acc"
      ],
      "execution_count": 0,
      "outputs": []
    },
    {
      "cell_type": "code",
      "metadata": {
        "id": "xJaf9rtzTFLW",
        "colab_type": "code",
        "colab": {}
      },
      "source": [
        ""
      ],
      "execution_count": 0,
      "outputs": []
    },
    {
      "cell_type": "markdown",
      "metadata": {
        "id": "-McO8NLyCwtB",
        "colab_type": "text"
      },
      "source": [
        "## Performance before training\n",
        "\n",
        "The accuracy is expected to be around 10%"
      ]
    },
    {
      "cell_type": "code",
      "metadata": {
        "id": "ZoG4lkKLCwtC",
        "colab_type": "code",
        "outputId": "a4190782-29e3-415f-b17c-f01a75aa4389",
        "colab": {
          "base_uri": "https://localhost:8080/",
          "height": 34
        }
      },
      "source": [
        "test()"
      ],
      "execution_count": 13,
      "outputs": [
        {
          "output_type": "execute_result",
          "data": {
            "text/plain": [
              "0.1263"
            ]
          },
          "metadata": {
            "tags": []
          },
          "execution_count": 13
        }
      ]
    },
    {
      "cell_type": "markdown",
      "metadata": {
        "id": "o9h8MDSzCwtD",
        "colab_type": "text"
      },
      "source": [
        "## Performance after training\n",
        "\n",
        "Measure training and test accuracy for at least 10 epochs, show it on a epoch/accuracy graph. The network is expected to reach around 70% accuracy at 10 epochs. "
      ]
    },
    {
      "cell_type": "code",
      "metadata": {
        "id": "kmRzcvlmCwtD",
        "colab_type": "code",
        "outputId": "1bd831d7-fad2-42b9-b426-cd4551f193b7",
        "colab": {
          "base_uri": "https://localhost:8080/",
          "height": 609
        }
      },
      "source": [
        "epoch_number = 20\n",
        "train_acc = []\n",
        "test_acc = []\n",
        "for a in range (epoch_number):\n",
        "    train_acc.append(train(batch_size = 128))\n",
        "    test_acc.append(test())\n",
        "print(\"final train acc : \")\n",
        "print(train_acc[-1])\n",
        "print(\"final test_acc : \")\n",
        "print(test_acc[-1])\n",
        "k = np.linspace(1,epoch_number,epoch_number)\n",
        "\n",
        "plt.plot(k,train_acc) #plot train and test accuracy graphs\n",
        "plt.xlabel(\"Epochs\")\n",
        "plt.ylabel(\"Accuracy on Training Data\")\n",
        "plt.show()\n",
        "\n",
        "plt.plot(k,test_acc)\n",
        "plt.xlabel(\"Epochs\")\n",
        "plt.ylabel(\"Accuracy on Test Data\")\n",
        "plt.show()"
      ],
      "execution_count": 14,
      "outputs": [
        {
          "output_type": "stream",
          "text": [
            "final train acc : \n",
            "0.7686899038461539\n",
            "final test_acc : \n",
            "0.7399\n"
          ],
          "name": "stdout"
        },
        {
          "output_type": "display_data",
          "data": {
            "image/png": "[encoded data removed]",
            "text/plain": [
              "<Figure size 432x288 with 1 Axes>"
            ]
          },
          "metadata": {
            "tags": []
          }
        },
        {
          "output_type": "display_data",
          "data": {
            "image/png": "[encoded data removed]",
            "text/plain": [
              "<Figure size 432x288 with 1 Axes>"
            ]
          },
          "metadata": {
            "tags": []
          }
        }
      ]
    },
    {
      "cell_type": "markdown",
      "metadata": {
        "id": "bYaVowXBCwtF",
        "colab_type": "text"
      },
      "source": [
        "## Close the session"
      ]
    },
    {
      "cell_type": "code",
      "metadata": {
        "id": "HT5BJO9BCwtF",
        "colab_type": "code",
        "colab": {}
      },
      "source": [
        "session.close()"
      ],
      "execution_count": 0,
      "outputs": []
    },
    {
      "cell_type": "markdown",
      "metadata": {
        "id": "XYTHNa_UCwtH",
        "colab_type": "text"
      },
      "source": [
        "## Discussion"
      ]
    },
    {
      "cell_type": "markdown",
      "metadata": {
        "id": "f-25YKjHCwtI",
        "colab_type": "text"
      },
      "source": [
        "In this part of the 3rd question the network given in the figure is implemented using the 'high' level API\n",
        "functions. Inputs are divided by 255 in order to place the numbers between 0-1. Dividing by 255 was rooted from the fact that inputs are\n",
        "pixel values of images. System consists of total a total of 3 convolution layers, 3 pooling layers each are placed after\n",
        "a convolution layer. After the third pooling layer 2 fully connected layers are present. Fully connected\n",
        "layers have 128 and 10 neurons respectively. Outside the network, a softmax activation function completes the \n",
        "network's guess for each image. Input size is not changed in conv. layers but downsampled to half of the input'size\n",
        "size in each pooling layers. \n",
        "\n",
        "In network definition, pooling type is not specified, AVG pooling is choosen in order to\n",
        "reduce information loss between layers. In max pooling final train_acc,test_acc = [0.71, 0.71],  while the\n",
        "final train_acc, test_acc = [0.72, 0.72] in average pooling, after 10 epochs. Here and later \"computation time\"\n",
        "refers to neither training, nor test time but a mixture of them. Time is calculated the execution duration of the 14th cell\n",
        "given by Google CoLab when mouse is hovered on the 'play' button, hw accelerator is choosen as GPU. Computation time of each \n",
        "option resulted around 65 seconds.\n",
        "\n",
        "However, both of the implementations' lower API versions resulted in a shorter computation duration of\n",
        "50 seconds. This is due to fact that lower level API gives more work for the programmer but it is purified from the overheads of\n",
        "high-level functions. In general, it can be said that, lower level API can result in faster implementation.\n",
        "\n",
        "Another unspecified point was the batch size, with batch_size 128, computation time for 10 epochs is ~65secs. and \n",
        "final test acc. is aroung 72%. When batch_size is reduced to 32, computation time for 10 epochs increased to 120 secs. while\n",
        "final test acc. increased to 73%. One reason of the accuracy increase [1] can be the fact that smaller batch sizes are noisy, \n",
        "offering a regularizing effect and lower generalization error.\n",
        "\n",
        "Dropout is implemented by using different dropout rates for test and training feed_dict's. Original dropout rates are \n",
        "0.4 and 0.01 for train and test respectively. When dropout is set to 0.99 for each function,test accuracy decreased to 0.1\n",
        "network doesn't learn anything during training and 1st fully connected layer neurons are not working, guess is completely randomized by output neurons.\n",
        "Later dropout is set to 0.99 and 0.01 for training and test respectively final test result was again 0.1. This time neurons were on for inference but,\n",
        "they were off while training hence, no learning observed. Turning off the neurons (dropout = 0.99 in both) did not changed the computation time.\n",
        "\n",
        "When epoch number is increased to 20 from 10, final test accuracy also increased to 76%.Moreover, computation time is also \n",
        "increased to 120 secs.\n",
        "\n",
        "When we bypass the batch_normalization, final test accuracy drop to 66% from 76% in 20 epochs. Moreover, computation\n",
        "time is decreased to 110 seconds since network's computation cost is decreased.\n",
        "\n",
        "[1] https://machinelearningmastery.com/how-to-control-the-speed-and-stability-of-training-neural-networks-with-gradient-descent-batch-size/"
      ]
    },
    {
      "cell_type": "markdown",
      "metadata": {
        "id": "yRjg7b97CwtJ",
        "colab_type": "text"
      },
      "source": [
        "## References\n",
        "\n",
        "[1] [Arm Community](https://community.arm.com)\n",
        "\n",
        "[2] https://r2rt.com/implementing-batch-normalization-in-tensorflow.html\n",
        "\n",
        "[3] https://gist.github.com/andrewkruger/d62faac06f950c4388d9b23aae0c9cc9#file-gistfile1-txt\n",
        "\n",
        "[4] https://github.com/METU-MMI-DeepLearning/MMI713_Deep_Learning/blob/master/Lab1.ipynb"
      ]
    }
  ]
}