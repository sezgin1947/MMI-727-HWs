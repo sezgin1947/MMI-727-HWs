{
  "nbformat": 4,
  "nbformat_minor": 0,
  "metadata": {
    "anaconda-cloud": {},
    "kernelspec": {
      "name": "python3",
      "display_name": "Python 3"
    },
    "language_info": {
      "codemirror_mode": {
        "name": "ipython",
        "version": 3
      },
      "file_extension": ".py",
      "mimetype": "text/x-python",
      "name": "python",
      "nbconvert_exporter": "python",
      "pygments_lexer": "ipython3",
      "version": "3.5.4"
    },
    "colab": {
      "name": "hw2_Question 3_1.ipynb",
      "provenance": [],
      "collapsed_sections": []
    },
    "accelerator": "GPU"
  },
  "cells": [
    {
      "cell_type": "markdown",
      "metadata": {
        "id": "ALYv9MueCwsn",
        "colab_type": "text"
      },
      "source": [
        "# 3. Convolutional Neural Networks (60 pts) VERSION 1 M.SEZGIN BALOGLU"
      ]
    },
    {
      "cell_type": "markdown",
      "metadata": {
        "id": "lpk-UgW9Cwsn",
        "colab_type": "text"
      },
      "source": [
        "### Implement the convolutional neural network shown below for CIFAR-10 dataset.  Your code must follow these rules:\n",
        "\n",
        "__- Use your own implementation.__\n",
        "\n",
        "__- You can only use \" tf \" and \" tf.nn \" libraries for version 1 (40 pts). Check [tf.nn](https://www.tensorflow.org/versions/r1.15/api_docs/python/tf/nn)__\n",
        "\n",
        "__- You can use \" tf.layers \" library for version 2 (20 pts). Check [tf.layers](https://www.tensorflow.org/versions/r1.15/api_docs/python/tf/layers)__\n",
        "\n",
        "__- Use ReLU activation function__\n",
        "\n",
        "__- Use batch normalization for convolutional layers__\n",
        "\n",
        "__- Use dropout for fully connected layers (for training only)__\n",
        "\n",
        "__- Write necessary explanations for each cell. Explanations should be detailed.__\n",
        "\n",
        "__- You can use codes from Lab Notebook.__\n",
        "\n",
        "__- (OPTIONAL) You can add more layers or use different methods for better accuracy. If you want, send an another notebook file with better accuracy for bonus points.__"
      ]
    },
    {
      "cell_type": "markdown",
      "metadata": {
        "id": "D5bOUxQKCwso",
        "colab_type": "text"
      },
      "source": [
        "<img src=\"https://github.com/METU-MMI-DeepLearning/MMI713_Deep_Learning/blob/master/Assignment%202/model.png?raw=1\">"
      ]
    },
    {
      "cell_type": "markdown",
      "metadata": {
        "id": "bE3ltKqWCwsp",
        "colab_type": "text"
      },
      "source": [
        "## Imports"
      ]
    },
    {
      "cell_type": "code",
      "metadata": {
        "id": "Yqgg8OMlCwsp",
        "colab_type": "code",
        "outputId": "b19c4bdc-d939-4a11-9461-fafc2d909043",
        "colab": {
          "base_uri": "https://localhost:8080/",
          "height": 80
        }
      },
      "source": [
        "import tensorflow as tf\n",
        "import numpy as np\n",
        "import matplotlib.pyplot as plt\n",
        "%matplotlib inline"
      ],
      "execution_count": 1,
      "outputs": [
        {
          "output_type": "display_data",
          "data": {
            "text/html": [
              "<p style=\"color: red;\">\n",
              "The default version of TensorFlow in Colab will soon switch to TensorFlow 2.x.<br>\n",
              "We recommend you <a href=\"https://www.tensorflow.org/guide/migrate\" target=\"_blank\">upgrade</a> now \n",
              "or ensure your notebook will continue to use TensorFlow 1.x via the <code>%tensorflow_version 1.x</code> magic:\n",
              "<a href=\"https://colab.research.google.com/notebooks/tensorflow_version.ipynb\" target=\"_blank\">more info</a>.</p>\n"
            ],
            "text/plain": [
              "<IPython.core.display.HTML object>"
            ]
          },
          "metadata": {
            "tags": []
          }
        }
      ]
    },
    {
      "cell_type": "markdown",
      "metadata": {
        "id": "bEOoMK_ZCwsr",
        "colab_type": "text"
      },
      "source": [
        "## Load Data\n",
        "\n",
        "You can normalize input data \"x\" if needed. You can use \"np.squeeze\" to remove single-dimensional entries from the shape of an array. You probably need to convert labels \"y\" to one-hot vector for loss function."
      ]
    },
    {
      "cell_type": "code",
      "metadata": {
        "id": "7YL3QdYjCwsr",
        "colab_type": "code",
        "outputId": "5a8e1311-7d07-40e2-f011-65268d4d56ab",
        "colab": {
          "base_uri": "https://localhost:8080/",
          "height": 170
        }
      },
      "source": [
        "(x_train, y_train), (x_test, y_test) = tf.keras.datasets.cifar10.load_data()\n",
        "print(x_train.shape)\n",
        "x_train = x_train / 255\n",
        "x_test = x_test / 255   # place input values between 0-1\n",
        "\n",
        "y_train = tf.one_hot(np.squeeze(y_train),10)  #implement one-hot dec. for labels\n",
        "y_test = tf.one_hot(np.squeeze(y_test),10)\n",
        "y_train_cls = tf.argmax(y_train, axis=1)  #get the classes as single guesses\n",
        "y_test_cls = tf.argmax(y_test, axis=1)\n",
        "\n",
        "session = tf.Session()  \n",
        "y_train = y_train.eval(session=session) #datatype conversion from tensor to np.ndarray\n",
        "y_train_cls = y_train_cls.eval(session=session)\n",
        "y_test = y_test.eval(session=session)\n",
        "y_test_cls = y_test_cls.eval(session=session)\n",
        "\n",
        "x_train = x_train.astype(np.float32)  #placeholders are float32 hence, convert them\n",
        "x_test = x_test.astype(np.float32)\n",
        "print(type(x_train[0,1,1,1])) #debug prints\n",
        "print(type(x_test[0,1,17,1]))\n",
        "print(type(y_train[0,1]))\n",
        "print(type(y_test[0,1]))\n",
        "print(type(y_test_cls[0]))\n",
        "print(y_train.shape)\n",
        "print(y_test.shape)\n",
        "print(y_test_cls.shape)"
      ],
      "execution_count": 2,
      "outputs": [
        {
          "output_type": "stream",
          "text": [
            "(50000, 32, 32, 3)\n",
            "<class 'numpy.float32'>\n",
            "<class 'numpy.float32'>\n",
            "<class 'numpy.float32'>\n",
            "<class 'numpy.float32'>\n",
            "<class 'numpy.int64'>\n",
            "(50000, 10)\n",
            "(10000, 10)\n",
            "(10000,)\n"
          ],
          "name": "stdout"
        }
      ]
    },
    {
      "cell_type": "markdown",
      "metadata": {
        "id": "l7gS1DR4Cwst",
        "colab_type": "text"
      },
      "source": [
        "## Define placeholders\n",
        "\n",
        "Define input and output placeholders. It is a good idea to pass dropout rate also as a placeholder."
      ]
    },
    {
      "cell_type": "code",
      "metadata": {
        "id": "t2NkMH2HCwsu",
        "colab_type": "code",
        "colab": {}
      },
      "source": [
        "x = tf.placeholder(tf.float32, [None, 32,32,3]) #placeholder for input\n",
        "y_true = tf.placeholder(tf.float32, [None, 10]) #placeholder for label in order to use in error mtrx. calc.\n",
        "y_true_cls = tf.placeholder(tf.int64, [None]) #placeholder for class guesses\n",
        "dropout_rate = tf.placeholder(tf.float32) #dropout rate\n",
        "test_training = tf.placeholder(tf.bool)  # flag for test and training"
      ],
      "execution_count": 0,
      "outputs": []
    },
    {
      "cell_type": "markdown",
      "metadata": {
        "id": "pRPDkWo4Cwsv",
        "colab_type": "text"
      },
      "source": [
        "## Define variables\n",
        "\n",
        "Define filters for convolutional layers, weights and biases for fully connected layers. Don't forget to use a initializer. Xavier is recommended.\n",
        "\n",
        "\n",
        "*VARIABLES ARE DEFINED IN BELOW FUNCTION WHERE I CREATED THE NETWORK. SORRY FOR BAD CODE, RE-ARRANGED IT TOO MUCH COULDNT FIND TIME TO PROPERLY RE-WRITE*"
      ]
    },
    {
      "cell_type": "markdown",
      "metadata": {
        "id": "-D7ZiydvCwsx",
        "colab_type": "text"
      },
      "source": [
        "## Define network\n",
        "\n",
        "Define the network as a function.Recommended functions are:\n",
        "\n",
        "`\n",
        "tf.nn.convolution / tf.nn.pool / tf.nn.batch_normalization / tf.nn.dropout / tf.reshape`"
      ]
    },
    {
      "cell_type": "code",
      "metadata": {
        "id": "uglLHBb7Cwsx",
        "colab_type": "code",
        "colab": {}
      },
      "source": [
        "def netw0rk(x, dropout_rate ,\n",
        "            conv1 = tf.get_variable(\"conv1\", shape=[5,5,3,32], initializer=tf.glorot_normal_initializer()), \n",
        "padding_conv1 = \"SAME\",\n",
        "stride_conv1 = [1,1],  #1st conv layer, 5x5x3 filters total of 32 filters\n",
        "\n",
        "window1 = [3,3],   #1st pooling layer\n",
        "padding_pool1 =\"SAME\",\n",
        "pooling_type1 = \"AVG\",\n",
        "stride_pool1 =  [2,2],  # Stride amount is 2 in each direction\n",
        "\n",
        "conv2 = tf.get_variable(\"conv2\", shape=[5,5,32,16], initializer=tf.glorot_normal_initializer()),\n",
        "padding_conv2 = \"SAME\",\n",
        "stride_conv2 = [1,1],  #2nd conv layer\n",
        "\n",
        "window2 = [3,3],\n",
        "padding_pool2 = \"SAME\",\n",
        "pooling_type2 = \"AVG\",\n",
        "stride_pool2 = [2,2],  #2nd pooling layer\n",
        "\n",
        "conv3 = tf.get_variable(\"conv3\", shape=[5,5,16,32], initializer=tf.glorot_normal_initializer()),\n",
        "padding_conv3 = \"SAME\",\n",
        "stride_conv3 = [1,1],  #3rd conv layer\n",
        "\n",
        "window3 = [3,3],\n",
        "padding_pool3 = \"SAME\",\n",
        "pooling_type3 = \"AVG\",\n",
        "stride_pool3 = [2,2],  #3rd pooling layer\n",
        "\n",
        "\n",
        "weights1 = tf.Variable(tf.random.uniform([32*4*4,128])), #weights for 1st fc layer, randomly initialized with random dist.\n",
        "weights2 = tf.Variable(tf.random.uniform([128,10])), # weights for 2nd fc layer\n",
        "bias1 = tf.Variable(tf.zeros([128])),  #biases of first fc layer, zero initialized.\n",
        "bias2 = tf.Variable(tf.zeros([10]))   # biases of second fc layer\n",
        "):\n",
        "# LAYER 1\n",
        "    conv_layer1 = tf.nn.convolution(input = x, filter= conv1, padding= padding_conv1,\n",
        "                                      strides = stride_conv1 )  #1st convolution\n",
        "    mean1, variance1 = tf.nn.moments(conv_layer1,[0]) #calculation of batch norm. parameters\n",
        "    scale1 = tf.Variable(tf.ones([32,32,32])) # calculation of batch norm. parameters.\n",
        "    beta1 = tf.Variable(tf.zeros([32,32,32]))\n",
        "    bn1 = tf.nn.batch_normalization(x =conv_layer1, mean=mean1, variance= variance1,  #batch norm.\n",
        "                                    scale= scale1, offset=beta1, variance_epsilon=0.0000001)\n",
        "    relu_layer1 = tf.nn.relu(bn1)   # 1st ReLU layer, activation function\n",
        "    pool_layer1 = tf.nn.pool(input = relu_layer1, window_shape = window1, pooling_type = pooling_type1, \n",
        "                              padding = padding_pool1, strides = stride_pool1)  #1st pooling layer\n",
        "# LAYER 2 layer 2 and 3 are not commented again since they have same structure with layer 1.\n",
        "    conv_layer2 = tf.nn.convolution(input = pool_layer1, filter= conv2, padding= padding_conv2,\n",
        "                                      strides = stride_conv2 )\n",
        "    mean2, variance2 = tf.nn.moments(conv_layer2,[0])\n",
        "    scale2 = tf.Variable(tf.ones([16,16,16]))\n",
        "    beta2 = tf.Variable(tf.zeros([16,16,16]))\n",
        "    bn2 = tf.nn.batch_normalization(x =conv_layer2, mean=mean2, variance= variance2,\n",
        "                                    scale= scale2, offset=beta2, variance_epsilon=0.0000001)\n",
        "    relu_layer2 = tf.nn.relu(bn2)\n",
        "    pool_layer2 = tf.nn.pool(input = relu_layer2, window_shape = window2, pooling_type = pooling_type2, \n",
        "                              padding = padding_pool2, strides = stride_pool2)\n",
        "# LAYER 3\n",
        "    conv_layer3 = tf.nn.convolution(input = pool_layer2, filter= conv3, padding= padding_conv3,\n",
        "                                      strides = stride_conv3 )\n",
        "    mean3, variance3 = tf.nn.moments(conv_layer3,[0])\n",
        "    scale3 = tf.Variable(tf.ones([8,8,32]))\n",
        "    beta3 = tf.Variable(tf.zeros([8,8,32]))\n",
        "    bn3 = tf.nn.batch_normalization(x =conv_layer3, mean=mean3, variance= variance3,\n",
        "                                    scale= scale3, offset=beta3, variance_epsilon=0.0000001)\n",
        "    relu_layer3 = tf.nn.relu(bn3)\n",
        "    pool_layer3 = tf.nn.pool(input = relu_layer3, window_shape = window3, pooling_type = pooling_type3, \n",
        "                              padding = padding_pool3, strides = stride_pool3)\n",
        "\n",
        "    pool_layer3_x = tf.reshape(pool_layer3, [-1,32*4*4])  #flatten for fc layer\n",
        "\n",
        "  # 1st FC Layer\n",
        "    fc_layer = tf.matmul(pool_layer3_x, weights1) + bias1\n",
        "    fc_layer_x = tf.nn.dropout(fc_layer, rate = dropout_rate)\n",
        "    aa = tf.nn.relu(fc_layer_x)\n",
        "    #2nd fc layer\n",
        "    result = tf.matmul(aa, weights2) + bias2\n",
        "    return result\n",
        "\n",
        "logits = netw0rk(x, dropout_rate)  \n",
        "y_pred = tf.nn.softmax(logits)  #calculate output pred.\n",
        "y_pred_cls = tf.argmax(y_pred, axis=1)\n"
      ],
      "execution_count": 0,
      "outputs": []
    },
    {
      "cell_type": "markdown",
      "metadata": {
        "id": "yYHUDRlVCwsz",
        "colab_type": "text"
      },
      "source": [
        "## Define cost function\n",
        "\n",
        "Define cost with respect to predictions and labels."
      ]
    },
    {
      "cell_type": "code",
      "metadata": {
        "id": "Y3y1d0C0Cwsz",
        "colab_type": "code",
        "outputId": "c32c35c2-b049-4694-f7ad-bda029defda7",
        "colab": {
          "base_uri": "https://localhost:8080/",
          "height": 173
        }
      },
      "source": [
        "cross_entropy = tf.nn.softmax_cross_entropy_with_logits(logits=logits,    #calc. loss between result and labels\n",
        "                                                        labels=y_true)\n",
        "cost = tf.reduce_mean(cross_entropy)  # cost function."
      ],
      "execution_count": 5,
      "outputs": [
        {
          "output_type": "stream",
          "text": [
            "WARNING:tensorflow:From <ipython-input-5-bd25a9c2f912>:2: softmax_cross_entropy_with_logits (from tensorflow.python.ops.nn_ops) is deprecated and will be removed in a future version.\n",
            "Instructions for updating:\n",
            "\n",
            "Future major versions of TensorFlow will allow gradients to flow\n",
            "into the labels input on backprop by default.\n",
            "\n",
            "See `tf.nn.softmax_cross_entropy_with_logits_v2`.\n",
            "\n"
          ],
          "name": "stdout"
        }
      ]
    },
    {
      "cell_type": "markdown",
      "metadata": {
        "id": "51EwRVaNCws1",
        "colab_type": "text"
      },
      "source": [
        "## Define optimizer\n",
        "\n",
        "Adam is recommended"
      ]
    },
    {
      "cell_type": "code",
      "metadata": {
        "id": "r7_ZeOlTCws1",
        "colab_type": "code",
        "colab": {}
      },
      "source": [
        "optimizer = tf.train.AdamOptimizer(learning_rate=0.005).minimize(cost)"
      ],
      "execution_count": 0,
      "outputs": []
    },
    {
      "cell_type": "markdown",
      "metadata": {
        "id": "Z9D4Ook2Cws2",
        "colab_type": "text"
      },
      "source": [
        "## Define performance measures"
      ]
    },
    {
      "cell_type": "code",
      "metadata": {
        "id": "VDNLQR0_Cws3",
        "colab_type": "code",
        "colab": {}
      },
      "source": [
        "correct_prediction = tf.equal(y_pred_cls, y_true_cls)\n",
        "accuracy = tf.reduce_mean(tf.cast(correct_prediction, tf.float32))  #data flow elements for perf. measurement"
      ],
      "execution_count": 0,
      "outputs": []
    },
    {
      "cell_type": "markdown",
      "metadata": {
        "id": "7CWFb6DECws4",
        "colab_type": "text"
      },
      "source": [
        "## Create TensorFlow session\n"
      ]
    },
    {
      "cell_type": "code",
      "metadata": {
        "id": "nxmAkz_2Cws5",
        "colab_type": "code",
        "colab": {}
      },
      "source": [
        "#session = tf.Session() # commented since a session is already started in 1st cell"
      ],
      "execution_count": 0,
      "outputs": []
    },
    {
      "cell_type": "markdown",
      "metadata": {
        "id": "LiFHxELICws7",
        "colab_type": "text"
      },
      "source": [
        "## Initialize variables\n",
        "\n",
        "The variables for `weights`,`filters` and `biases` must be initialized before we start optimizing them."
      ]
    },
    {
      "cell_type": "code",
      "metadata": {
        "id": "7XV9pysJCws7",
        "colab_type": "code",
        "colab": {}
      },
      "source": [
        "session.run(tf.global_variables_initializer())"
      ],
      "execution_count": 0,
      "outputs": []
    },
    {
      "cell_type": "markdown",
      "metadata": {
        "id": "1F_36zpCCws9",
        "colab_type": "text"
      },
      "source": [
        "## Define train function\n",
        "\n",
        "Don't forget to use batches since dataset is large."
      ]
    },
    {
      "cell_type": "markdown",
      "metadata": {
        "id": "9q6PSUYpCws9",
        "colab_type": "text"
      },
      "source": [
        "Hint : One of the simplest way to define batch is\n",
        "\n",
        "`for b in range(dataset_size//batch_size):      \n",
        "    x_batch = x_train[b * batch_size : (b+1) * batch_size]`"
      ]
    },
    {
      "cell_type": "code",
      "metadata": {
        "id": "TDrXnOiDE-TO",
        "colab_type": "code",
        "colab": {}
      },
      "source": [
        "def train(batch_size = 100):\n",
        "    correct_pred_array = []\n",
        "    for b in range(x_train.shape[0]//batch_size):      \n",
        "        x_batch = x_train[b * batch_size : (b+1) * batch_size]\n",
        "        y_true_batch = y_train[b * batch_size : (b+1) * batch_size, :]\n",
        "        y_train_cls_batch = y_train_cls[b * batch_size : (b+1) * batch_size]  # feed dict. for training\n",
        "        feed_dict_train = {x: x_batch,\n",
        "                          y_true: y_true_batch,\n",
        "                          dropout_rate : 0.4}        \n",
        "        opt, cls_pred = session.run([optimizer, y_pred_cls], feed_dict=feed_dict_train)\n",
        "        # Run the model to get predictions for test data\n",
        "        # Get true labels\n",
        "        cls_true = y_train_cls_batch\n",
        "        # Calculate the difference betweeb predictions and true labels\n",
        "        correct_prediction = np.equal(cls_pred, cls_true)\n",
        "        correct_pred_array.append( np.mean(correct_prediction)) # take the loss for each batch.\n",
        "        \n",
        "    return np.mean(correct_pred_array) #average the batch_loss array for epoch loss"
      ],
      "execution_count": 0,
      "outputs": []
    },
    {
      "cell_type": "markdown",
      "metadata": {
        "id": "zhxmS0YlCws_",
        "colab_type": "text"
      },
      "source": [
        "## Define test function"
      ]
    },
    {
      "cell_type": "code",
      "metadata": {
        "id": "WDQQNV3-CwtA",
        "colab_type": "code",
        "colab": {}
      },
      "source": [
        "feed_dict_test = {x: x_test,    #feed placeholders with proper variables.\n",
        "                  y_true: y_test,\n",
        "                  y_true_cls: y_test_cls,\n",
        "                  dropout_rate : 0.01}  #test_training = 0 network should work for inference not for training\n",
        "def test():\n",
        "    # Run the model to get predictions for test data\n",
        "    cls_pred = session.run(y_pred_cls, feed_dict=feed_dict_test)\n",
        "    \n",
        "    # Get true labels\n",
        "    cls_true = y_test_cls\n",
        "    \n",
        "    # Calculate the difference betweeb predictions and true labels\n",
        "    correct_prediction = np.equal(cls_pred, cls_true)\n",
        "    \n",
        "    # Calculate the total accuracy\n",
        "    acc = np.mean(correct_prediction) # Different from the train func., test func. \n",
        "    #doesnt avg. over total batch since it is given to network as a whole\n",
        "    return acc"
      ],
      "execution_count": 0,
      "outputs": []
    },
    {
      "cell_type": "markdown",
      "metadata": {
        "id": "-McO8NLyCwtB",
        "colab_type": "text"
      },
      "source": [
        "## Performance before training\n",
        "\n",
        "The accuracy is expected to be around 10%"
      ]
    },
    {
      "cell_type": "code",
      "metadata": {
        "id": "ZoG4lkKLCwtC",
        "colab_type": "code",
        "outputId": "acdef2ef-426d-4e11-c5c4-a31f192659e4",
        "colab": {
          "base_uri": "https://localhost:8080/",
          "height": 34
        }
      },
      "source": [
        "print(test())"
      ],
      "execution_count": 12,
      "outputs": [
        {
          "output_type": "stream",
          "text": [
            "0.1\n"
          ],
          "name": "stdout"
        }
      ]
    },
    {
      "cell_type": "markdown",
      "metadata": {
        "id": "o9h8MDSzCwtD",
        "colab_type": "text"
      },
      "source": [
        "## Performance after training\n",
        "\n",
        "Measure training and test accuracy for at least 10 epochs, show it on a epoch/accuracy graph. The network is expected to reach around 70% accuracy at 10 epochs. "
      ]
    },
    {
      "cell_type": "code",
      "metadata": {
        "id": "kmRzcvlmCwtD",
        "colab_type": "code",
        "outputId": "4f1ce054-79df-4d43-ebac-12104dfff7ed",
        "colab": {
          "base_uri": "https://localhost:8080/",
          "height": 609
        }
      },
      "source": [
        "epoch_number = 10\n",
        "train_acc = []\n",
        "test_acc = []\n",
        "for a in range (epoch_number):\n",
        "    train_acc.append(train(batch_size = 128))\n",
        "    test_acc.append(test())\n",
        "print(\"final train acc : \")\n",
        "print(train_acc[-1])\n",
        "print(\"final test_acc : \")\n",
        "print(test_acc[-1])\n",
        "k = np.linspace(1,epoch_number,epoch_number)\n",
        "\n",
        "plt.plot(k,train_acc) #plot train and test accuracy graphs\n",
        "plt.xlabel(\"Epochs\")\n",
        "plt.ylabel(\"Accuracy on Training Data\")\n",
        "plt.show()\n",
        "\n",
        "plt.plot(k,test_acc)\n",
        "plt.xlabel(\"Epochs\")\n",
        "plt.ylabel(\"Accuracy on Test Data\")\n",
        "plt.show()"
      ],
      "execution_count": 13,
      "outputs": [
        {
          "output_type": "stream",
          "text": [
            "final train acc : \n",
            "0.4229366987179487\n",
            "final test_acc : \n",
            "0.4642\n"
          ],
          "name": "stdout"
        },
        {
          "output_type": "display_data",
          "data": {
            "image/png": "[encoded data removed]",
            "text/plain": [
              "<Figure size 432x288 with 1 Axes>"
            ]
          },
          "metadata": {
            "tags": []
          }
        },
        {
          "output_type": "display_data",
          "data": {
            "image/png": "[encoded data removed]",
            "text/plain": [
              "<Figure size 432x288 with 1 Axes>"
            ]
          },
          "metadata": {
            "tags": []
          }
        }
      ]
    },
    {
      "cell_type": "markdown",
      "metadata": {
        "id": "bYaVowXBCwtF",
        "colab_type": "text"
      },
      "source": [
        "## Close the session"
      ]
    },
    {
      "cell_type": "code",
      "metadata": {
        "id": "HT5BJO9BCwtF",
        "colab_type": "code",
        "colab": {}
      },
      "source": [
        "session.close()"
      ],
      "execution_count": 0,
      "outputs": []
    },
    {
      "cell_type": "markdown",
      "metadata": {
        "id": "XYTHNa_UCwtH",
        "colab_type": "text"
      },
      "source": [
        "## Discussion"
      ]
    },
    {
      "cell_type": "markdown",
      "metadata": {
        "id": "f-25YKjHCwtI",
        "colab_type": "text"
      },
      "source": [
        "In this part of the 3rd question the network given in the figure is implemented using the low level API\n",
        "functions. Inputs are divided by 255 in order to place the numbers between 0-1. Dividing by 255 was rooted from the fact that inputs are\n",
        "pixel values of images. System consists of total a total of 3 convolution layers, 3 pooling layers each are placed after\n",
        "a convolution layer. After the third pooling layer 2 fully connected layers are present. Fully connected\n",
        "layers have 128 and 10 neurons respectively. Outside the network, a softmax activation function completes the \n",
        "network's guess for each image. Input size is not changed in conv. layers but downsampled to half of the input'size\n",
        "size in each pooling layers. \n",
        "In network definition, pooling type is not specified, AVG pooling is choosen in order to\n",
        "reduce information loss between layers. There is no difference in computation time observed between max pooling and avg \n",
        "pooling, both took ~50 secs. However,  final train_acc,test_acc = [0.40, 0.45] in max pooling while the\n",
        "final train_acc, test_acc = [0.42, 0.474] in average pooling, after 10 epochs. Here and later \"computation time\"\n",
        "refers to neither training, nor test time but a mixture of them. Time is calculated the execution duration of the 13th cell\n",
        "given by Google CoLab when mouse is hovered on the 'play' button, hw accelerator is choosen as GPU. \n",
        "\n",
        "Another unspecified point was the batch size, with batch_size 128, computation time for 10 epochs is ~50secs. and \n",
        "final test acc. is aroung 47%. When batch_size is reduced to 32, computation time for 10 epochs increased to 130 secs. while\n",
        "final test acc. increased to 57%. One reason of the accuracy increase [1] can be the fact that smaller batch sizes are noisy, \n",
        "offering a regularizing effect and lower generalization error.\n",
        "\n",
        "Dropout is implemented by using different dropout rates for test and training feed_dict's. Original dropout rates are \n",
        "0.4 and 0.01 for train and test respectively. When dropout is set to 0.99 for each function,test accuracy decreased to 0.1\n",
        "network doesn't learn anything during training and 1st fully connected layer neurons are not working, guess is completely randomized by output neurons.\n",
        "Later dropout is set to 0.99 and 0.01 for training and test respectively final test result was again 0.1. This time neurons were on for inference but,\n",
        "they were off while training hence, no learning observed. Turning off the neurons (dropout = 0.99 in both) did not changed the computation time.\n",
        "\n",
        "When epoch number is increased to 20 from 10, final training accuracy also increased to 61%.Moreover, computation time is also \n",
        "increased to 90secs.\n",
        "\n",
        "Learning rate was 0.0005 at first and network seems to be working fine but then i realize there are some confusing results.\n",
        "Confusing thing was, same network with same hyper parameters resulted in different final test accuracies in high-low level API versions. Then\n",
        " this kind of difference (70% vs. 20%) made me think about this but I couldn't find any difference in implementations apart from\n",
        "filter initialization (glorot vs. xavier) and batch normalization implementation (computation of scale,offset etc.) Then, learning rate increased to\n",
        "0.005(current value) and it is observed that final accuracy increases. Moreover, final accuracy increase as the epochs increase. Therefore, it can be inferred that\n",
        "network is working correctly. In the given implementation, test_acc examples are aroung 47% since i don't have time to re-tune my network. Actually I,\n",
        "observe that my network can reach %57 percent acc. with changing the epoch size while this report is being written.\n",
        "Long story short, observations on hyper-parameters does not resemble potential performance of the network because I started to write this report before fine tuning the network because I had very little time when I finally became sure about my network implementation.\n",
        "Hyper parameters are given as they give the final train_acc, test_acc = [0.42, 0.474] and changes mentioned in report applied on those parameters.\n",
        "\n",
        "[1] https://machinelearningmastery.com/how-to-control-the-speed-and-stability-of-training-neural-networks-with-gradient-descent-batch-size/\n",
        "\n"
      ]
    },
    {
      "cell_type": "markdown",
      "metadata": {
        "id": "yRjg7b97CwtJ",
        "colab_type": "text"
      },
      "source": [
        "## References\n",
        "\n",
        "[1] [Arm Community](https://community.arm.com)\n",
        "\n",
        "[2] https://r2rt.com/implementing-batch-normalization-in-tensorflow.html\n",
        "\n",
        "[3] https://gist.github.com/andrewkruger/d62faac06f950c4388d9b23aae0c9cc9#file-gistfile1-txt\n",
        "\n",
        "[4] https://github.com/METU-MMI-DeepLearning/MMI713_Deep_Learning/blob/master/Lab1.ipynb"
      ]
    }
  ]
}