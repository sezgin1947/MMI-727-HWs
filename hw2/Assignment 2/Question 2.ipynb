{
 "cells": [
  {
   "cell_type": "markdown",
   "metadata": {},
   "source": [
    "# 2. Convolution and Pooling (10 - 10 pts)"
   ]
  },
  {
   "cell_type": "markdown",
   "metadata": {},
   "source": [
    "### a) Write a function for convolution operation in the cell below. Write your own code with your own algorithm. It should have necessary error checks for matrix dimensions (consider multichannel matrices). Inputs must have the same structure as Tensorflow convolution operation and also the results must be same. Check [tf.nn.convolution](https://www.tensorflow.org/api_docs/python/tf/nn/convolution)"
   ]
  },
  {
   "cell_type": "code",
   "execution_count": null,
   "metadata": {},
   "outputs": [],
   "source": [
    "import tensorflow as tf\n",
    "import numpy as np"
   ]
  },
  {
   "cell_type": "code",
   "execution_count": null,
   "metadata": {},
   "outputs": [],
   "source": [
    "def my_convolution(my_input, my_filter, my_padding, my_strides):\n",
    "    # WRITE YOUR OWN CONVOLUTION IMPLEMENTATION HERE\n",
    "    \n",
    "    return my_output"
   ]
  },
  {
   "cell_type": "code",
   "execution_count": null,
   "metadata": {},
   "outputs": [],
   "source": [
    "def tf_convolution(tf_input, tf_filter, tf_padding, tf_strides):\n",
    "    \n",
    "    sess = tf.Session()\n",
    "    tf_function = tf.nn.convolution(input=tf_input, filter=tf_filter, padding=tf_padding, strides=tf_strides)\n",
    "    tf_output = sess.run(tf_function)\n",
    "    sess.close()\n",
    "    \n",
    "    return tf_output"
   ]
  },
  {
   "cell_type": "code",
   "execution_count": null,
   "metadata": {},
   "outputs": [],
   "source": [
    "sample_input = np.random.random([1,4,4,1])\n",
    "sample_filter = np.random.random([2,2,1,1])\n",
    "sample_padding = \"VALID\"\n",
    "sample_strides = [1,1]\n",
    "\n",
    "tf_output = tf_convolution(sample_input,sample_filter,sample_padding,sample_strides)\n",
    "#my_output = my_convolution(sample_input,sample_filter,sample_padding,sample_strides)\n",
    "\n",
    "print(\"input:\")\n",
    "print(sample_input)\n",
    "print(\"filter:\")\n",
    "print(sample_filter)\n",
    "print(\"output:\")\n",
    "print(tf_output)"
   ]
  },
  {
   "cell_type": "markdown",
   "metadata": {},
   "source": [
    "### b) Write a function for pooling operation in the cell below. Write your own code with your own algorithm. It should have necessary error checks for matrix dimensions (consider multichannel matrices). Inputs must have the same structure as Tensorflow pooling operation and also the results must be same. Check [tf.nn.pool](https://www.tensorflow.org/api_docs/python/tf/nn/pool)"
   ]
  },
  {
   "cell_type": "code",
   "execution_count": null,
   "metadata": {},
   "outputs": [],
   "source": [
    "def my_pooling(my_input, my_window_shape, my_pooling_type, my_padding, my_strides):\n",
    "    # WRITE YOUR OWN POOLING IMPLEMENTATION HERE\n",
    "    \n",
    "    return my_output"
   ]
  },
  {
   "cell_type": "code",
   "execution_count": null,
   "metadata": {},
   "outputs": [],
   "source": [
    "def tf_pooling(tf_input, tf_window_shape, tf_pooling_type, tf_padding, tf_strides):\n",
    "    \n",
    "    sess = tf.Session()\n",
    "    tf_function = tf.nn.pool(input=tf_input, window_shape=tf_window_shape, pooling_type=tf_pooling_type, padding=tf_padding, strides=tf_strides)\n",
    "    tf_output = sess.run(tf_function)\n",
    "    sess.close()\n",
    "    \n",
    "    return tf_output"
   ]
  },
  {
   "cell_type": "code",
   "execution_count": null,
   "metadata": {},
   "outputs": [],
   "source": [
    "sample_input = np.random.random([1,4,4,1])\n",
    "sample_window_shape = [2,2]\n",
    "sample_pooling_type = \"MAX\"\n",
    "sample_padding = \"VALID\"\n",
    "sample_strides = [2,2]\n",
    "\n",
    "tf_output = tf_pooling(sample_input,sample_window_shape,sample_pooling_type,sample_padding,sample_strides)\n",
    "#my_output = my_pooling(my_input, my_window_shape, my_pooling_type, my_padding)\n",
    "\n",
    "print(\"input:\")\n",
    "print(sample_input)\n",
    "print(\"output:\")\n",
    "print(tf_output)"
   ]
  }
 ],
 "metadata": {
  "kernelspec": {
   "display_name": "Python 3",
   "language": "python",
   "name": "python3"
  },
  "language_info": {
   "codemirror_mode": {
    "name": "ipython",
    "version": 3
   },
   "file_extension": ".py",
   "mimetype": "text/x-python",
   "name": "python",
   "nbconvert_exporter": "python",
   "pygments_lexer": "ipython3",
   "version": "3.5.4"
  }
 },
 "nbformat": 4,
 "nbformat_minor": 2
}
