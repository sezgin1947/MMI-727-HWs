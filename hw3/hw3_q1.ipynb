{
  "nbformat": 4,
  "nbformat_minor": 0,
  "metadata": {
    "anaconda-cloud": {},
    "kernelspec": {
      "name": "python3",
      "display_name": "Python 3"
    },
    "language_info": {
      "codemirror_mode": {
        "name": "ipython",
        "version": 3
      },
      "file_extension": ".py",
      "mimetype": "text/x-python",
      "name": "python",
      "nbconvert_exporter": "python",
      "pygments_lexer": "ipython3",
      "version": "3.6.3"
    },
    "colab": {
      "name": "hw3_q1.ipynb",
      "provenance": [],
      "collapsed_sections": []
    },
    "accelerator": "GPU"
  },
  "cells": [
    {
      "cell_type": "markdown",
      "metadata": {
        "id": "UrmXr6XRl8mG",
        "colab_type": "text"
      },
      "source": [
        "# HW3 Q1"
      ]
    },
    {
      "cell_type": "code",
      "metadata": {
        "id": "OTXCSjJil8mJ",
        "colab_type": "code",
        "outputId": "5573eb0d-6636-43d4-c0cb-2d6f1a494cca",
        "colab": {
          "base_uri": "https://localhost:8080/",
          "height": 80
        }
      },
      "source": [
        "import tensorflow as tf\n",
        "import numpy as np\n",
        "import matplotlib.pyplot as plt\n",
        "%matplotlib inline"
      ],
      "execution_count": 0,
      "outputs": [
        {
          "output_type": "display_data",
          "data": {
            "text/html": [
              "<p style=\"color: red;\">\n",
              "The default version of TensorFlow in Colab will soon switch to TensorFlow 2.x.<br>\n",
              "We recommend you <a href=\"https://www.tensorflow.org/guide/migrate\" target=\"_blank\">upgrade</a> now \n",
              "or ensure your notebook will continue to use TensorFlow 1.x via the <code>%tensorflow_version 1.x</code> magic:\n",
              "<a href=\"https://colab.research.google.com/notebooks/tensorflow_version.ipynb\" target=\"_blank\">more info</a>.</p>\n"
            ],
            "text/plain": [
              "<IPython.core.display.HTML object>"
            ]
          },
          "metadata": {
            "tags": []
          }
        }
      ]
    },
    {
      "cell_type": "code",
      "metadata": {
        "id": "CUfLljzsl8mM",
        "colab_type": "code",
        "outputId": "7ce81e87-c179-4be4-bfd7-22b412e1a370",
        "colab": {
          "base_uri": "https://localhost:8080/",
          "height": 34
        }
      },
      "source": [
        "tf.__version__"
      ],
      "execution_count": 0,
      "outputs": [
        {
          "output_type": "execute_result",
          "data": {
            "text/plain": [
              "'1.15.0'"
            ]
          },
          "metadata": {
            "tags": []
          },
          "execution_count": 2
        }
      ]
    },
    {
      "cell_type": "code",
      "metadata": {
        "id": "VqEHkLh8l8mP",
        "colab_type": "code",
        "outputId": "6dc389d5-af1f-46b6-e7fe-c96446de9827",
        "colab": {
          "base_uri": "https://localhost:8080/",
          "height": 411
        }
      },
      "source": [
        "from tensorflow.examples.tutorials.mnist import input_data\n",
        "data = input_data.read_data_sets(\"data/MNIST/\", one_hot=True)"
      ],
      "execution_count": 0,
      "outputs": [
        {
          "output_type": "stream",
          "text": [
            "WARNING:tensorflow:From <ipython-input-3-d748032e7ab8>:2: read_data_sets (from tensorflow.contrib.learn.python.learn.datasets.mnist) is deprecated and will be removed in a future version.\n",
            "Instructions for updating:\n",
            "Please use alternatives such as official/mnist/dataset.py from tensorflow/models.\n",
            "WARNING:tensorflow:From /usr/local/lib/python3.6/dist-packages/tensorflow_core/contrib/learn/python/learn/datasets/mnist.py:260: maybe_download (from tensorflow.contrib.learn.python.learn.datasets.base) is deprecated and will be removed in a future version.\n",
            "Instructions for updating:\n",
            "Please write your own downloading logic.\n",
            "WARNING:tensorflow:From /usr/local/lib/python3.6/dist-packages/tensorflow_core/contrib/learn/python/learn/datasets/mnist.py:262: extract_images (from tensorflow.contrib.learn.python.learn.datasets.mnist) is deprecated and will be removed in a future version.\n",
            "Instructions for updating:\n",
            "Please use tf.data to implement this functionality.\n",
            "Extracting data/MNIST/train-images-idx3-ubyte.gz\n",
            "WARNING:tensorflow:From /usr/local/lib/python3.6/dist-packages/tensorflow_core/contrib/learn/python/learn/datasets/mnist.py:267: extract_labels (from tensorflow.contrib.learn.python.learn.datasets.mnist) is deprecated and will be removed in a future version.\n",
            "Instructions for updating:\n",
            "Please use tf.data to implement this functionality.\n",
            "Extracting data/MNIST/train-labels-idx1-ubyte.gz\n",
            "WARNING:tensorflow:From /usr/local/lib/python3.6/dist-packages/tensorflow_core/contrib/learn/python/learn/datasets/mnist.py:110: dense_to_one_hot (from tensorflow.contrib.learn.python.learn.datasets.mnist) is deprecated and will be removed in a future version.\n",
            "Instructions for updating:\n",
            "Please use tf.one_hot on tensors.\n",
            "Extracting data/MNIST/t10k-images-idx3-ubyte.gz\n",
            "Extracting data/MNIST/t10k-labels-idx1-ubyte.gz\n",
            "WARNING:tensorflow:From /usr/local/lib/python3.6/dist-packages/tensorflow_core/contrib/learn/python/learn/datasets/mnist.py:290: DataSet.__init__ (from tensorflow.contrib.learn.python.learn.datasets.mnist) is deprecated and will be removed in a future version.\n",
            "Instructions for updating:\n",
            "Please use alternatives such as official/mnist/dataset.py from tensorflow/models.\n"
          ],
          "name": "stdout"
        }
      ]
    },
    {
      "cell_type": "code",
      "metadata": {
        "id": "Q9GnCJ2al8mQ",
        "colab_type": "code",
        "outputId": "553879b4-7076-416b-bcd8-a2aed6aa436f",
        "colab": {
          "base_uri": "https://localhost:8080/",
          "height": 34
        }
      },
      "source": [
        "len(data.train.images) # Train image count"
      ],
      "execution_count": 0,
      "outputs": [
        {
          "output_type": "execute_result",
          "data": {
            "text/plain": [
              "55000"
            ]
          },
          "metadata": {
            "tags": []
          },
          "execution_count": 4
        }
      ]
    },
    {
      "cell_type": "code",
      "metadata": {
        "id": "H-aQP98Hl8mS",
        "colab_type": "code",
        "outputId": "500aea98-dbf4-494f-ece2-e278aa151499",
        "colab": {
          "base_uri": "https://localhost:8080/",
          "height": 34
        }
      },
      "source": [
        "len(data.test.images) # Test image count"
      ],
      "execution_count": 0,
      "outputs": [
        {
          "output_type": "execute_result",
          "data": {
            "text/plain": [
              "10000"
            ]
          },
          "metadata": {
            "tags": []
          },
          "execution_count": 5
        }
      ]
    },
    {
      "cell_type": "markdown",
      "metadata": {
        "id": "VF0NQ7xHl8ma",
        "colab_type": "text"
      },
      "source": [
        "### Data dimensions"
      ]
    },
    {
      "cell_type": "code",
      "metadata": {
        "id": "LrG7yejZl8mb",
        "colab_type": "code",
        "colab": {}
      },
      "source": [
        "# We know that MNIST images are 28 pixels in each dimension.\n",
        "img_size = 28\n",
        "\n",
        "# Images are stored in one-dimensional arrays of this length.\n",
        "img_size_flat = img_size * img_size\n",
        "\n",
        "# Tuple with height and width of images used to reshape arrays.\n",
        "img_shape = (img_size, img_size)\n",
        "\n",
        "# Number of classes, one class for each of 10 digits.\n",
        "num_classes = 10"
      ],
      "execution_count": 0,
      "outputs": []
    },
    {
      "cell_type": "markdown",
      "metadata": {
        "id": "_raM2WdUl8mk",
        "colab_type": "text"
      },
      "source": [
        "### Placeholder variables"
      ]
    },
    {
      "cell_type": "code",
      "metadata": {
        "id": "1n0lNBqIl8mm",
        "colab_type": "code",
        "colab": {}
      },
      "source": [
        "x = tf.placeholder(tf.float32, [None, img_size_flat])\n",
        "#x_1 = tf.placeholder(tf.float32, [None, img_size_flat])"
      ],
      "execution_count": 0,
      "outputs": []
    },
    {
      "cell_type": "code",
      "metadata": {
        "id": "W6JjCgVql8mp",
        "colab_type": "code",
        "colab": {}
      },
      "source": [
        "output_true = tf.placeholder(tf.float32, [None, img_size_flat])\n",
        "# = tf.placeholder(tf.float32, [None, img_size_flat])"
      ],
      "execution_count": 0,
      "outputs": []
    },
    {
      "cell_type": "code",
      "metadata": {
        "id": "GDfucQJ6l8mr",
        "colab_type": "code",
        "colab": {}
      },
      "source": [
        "#y_true_cls = tf.placeholder(tf.int64, [None])"
      ],
      "execution_count": 0,
      "outputs": []
    },
    {
      "cell_type": "markdown",
      "metadata": {
        "id": "HZbBWz5sl8ms",
        "colab_type": "text"
      },
      "source": [
        "### Variables to be optimized"
      ]
    },
    {
      "cell_type": "markdown",
      "metadata": {
        "id": "Aau4w5YSl8m1",
        "colab_type": "text"
      },
      "source": [
        "### Model"
      ]
    },
    {
      "cell_type": "code",
      "metadata": {
        "id": "_CK_avzfl8m3",
        "colab_type": "code",
        "outputId": "e0340437-46b8-4953-b480-ba66cc6fd334",
        "colab": {
          "base_uri": "https://localhost:8080/",
          "height": 139
        }
      },
      "source": [
        "layer1 = tf.layers.dense(x, 32, activation= 'relu')\n",
        "output_layer= tf.layers.dense(layer1, 784, activation= 'sigmoid')"
      ],
      "execution_count": 0,
      "outputs": [
        {
          "output_type": "stream",
          "text": [
            "WARNING:tensorflow:From <ipython-input-13-8dc00fae9a06>:1: dense (from tensorflow.python.layers.core) is deprecated and will be removed in a future version.\n",
            "Instructions for updating:\n",
            "Use keras.layers.Dense instead.\n",
            "WARNING:tensorflow:From /usr/local/lib/python3.6/dist-packages/tensorflow_core/python/layers/core.py:187: Layer.apply (from tensorflow.python.keras.engine.base_layer) is deprecated and will be removed in a future version.\n",
            "Instructions for updating:\n",
            "Please use `layer.__call__` method instead.\n"
          ],
          "name": "stdout"
        }
      ]
    },
    {
      "cell_type": "markdown",
      "metadata": {
        "id": "gDPEp3Qxl8m7",
        "colab_type": "text"
      },
      "source": [
        "### Cost-function to be optimized"
      ]
    },
    {
      "cell_type": "code",
      "metadata": {
        "id": "kR7EITX8l8m8",
        "colab_type": "code",
        "colab": {}
      },
      "source": [
        "#cross_entropy = tf.nn.softmax_cross_entropy_with_logits(logits=logits,\n",
        "                                                        #labels=y_true)\n",
        "meansq = tf.reduce_mean(tf.square(output_layer - output_true))"
      ],
      "execution_count": 0,
      "outputs": []
    },
    {
      "cell_type": "markdown",
      "metadata": {
        "id": "9YNBXlxil8m_",
        "colab_type": "text"
      },
      "source": [
        "### Optimization method"
      ]
    },
    {
      "cell_type": "code",
      "metadata": {
        "id": "IrxOu1NUl8nA",
        "colab_type": "code",
        "outputId": "f3e3b417-cc86-494c-bb73-ee4c378f3b69",
        "colab": {
          "base_uri": "https://localhost:8080/",
          "height": 88
        }
      },
      "source": [
        "learning_rate = 0.5\n",
        "optimizer = tf.train.AdagradOptimizer(learning_rate= learning_rate).minimize(meansq)\n",
        "#optimizer = tf.train.AdamOptimizer(0.0003).minimize(meansq)"
      ],
      "execution_count": 0,
      "outputs": [
        {
          "output_type": "stream",
          "text": [
            "WARNING:tensorflow:From /usr/local/lib/python3.6/dist-packages/tensorflow_core/python/training/adagrad.py:76: calling Constant.__init__ (from tensorflow.python.ops.init_ops) with dtype is deprecated and will be removed in a future version.\n",
            "Instructions for updating:\n",
            "Call initializer instance with the dtype argument instead of passing it to the constructor\n"
          ],
          "name": "stdout"
        }
      ]
    },
    {
      "cell_type": "markdown",
      "metadata": {
        "id": "bdU6JUZul8nB",
        "colab_type": "text"
      },
      "source": [
        "### Performance measures"
      ]
    },
    {
      "cell_type": "markdown",
      "metadata": {
        "id": "GKuH8Ryjl8nH",
        "colab_type": "text"
      },
      "source": [
        "## TensorFlow Run"
      ]
    },
    {
      "cell_type": "code",
      "metadata": {
        "id": "PwF2P-Okl8nI",
        "colab_type": "code",
        "colab": {}
      },
      "source": [
        "session = tf.Session()"
      ],
      "execution_count": 0,
      "outputs": []
    },
    {
      "cell_type": "code",
      "metadata": {
        "id": "zam6qg1Xl8nK",
        "colab_type": "code",
        "colab": {}
      },
      "source": [
        "session.run(tf.global_variables_initializer())"
      ],
      "execution_count": 0,
      "outputs": []
    },
    {
      "cell_type": "markdown",
      "metadata": {
        "id": "O19XWgILl8nL",
        "colab_type": "text"
      },
      "source": [
        "### Train"
      ]
    },
    {
      "cell_type": "code",
      "metadata": {
        "id": "Cyl9OqjCl8nN",
        "colab_type": "code",
        "colab": {}
      },
      "source": [
        "def train(batch_size):\n",
        "    train_loss = []\n",
        "    for i in range(int(len(data.train.images) / batch_size)):\n",
        "        # Get a batch of training examples.\n",
        "        # x_batch now holds a batch of images and\n",
        "        # y_true_batch are the true labels for those images.\n",
        "        x_batch, y_true_batch = data.train.next_batch(batch_size)\n",
        "        \n",
        "        # Put the batch into a dict with the proper names\n",
        "        # for placeholder variables in the TensorFlow graph.\n",
        "        # Note that the placeholder for y_true_cls is not set\n",
        "        # because it is not used during training.\n",
        "        feed_dict_train = {x: x_batch,\n",
        "                           output_true: x_batch}\n",
        "\n",
        "        # Run the optimizer using this batch of training data.\n",
        "        # TensorFlow assigns the variables in feed_dict_train\n",
        "        # to the placeholder variables and then runs the optimizer.\n",
        "        _, loss = session.run([optimizer, meansq], feed_dict=feed_dict_train)\n",
        "        train_loss.append(loss)\n",
        "    print(\"Training loss is :\", loss)\n",
        "    return np.mean(train_loss)\n",
        "        #accuracy_array.append(accuracy)\n",
        "    #return accuracy_array"
      ],
      "execution_count": 0,
      "outputs": []
    },
    {
      "cell_type": "markdown",
      "metadata": {
        "id": "B39gQuSWbB9u",
        "colab_type": "text"
      },
      "source": [
        "TRAIN THE MODEL"
      ]
    },
    {
      "cell_type": "code",
      "metadata": {
        "id": "m16DJnbbEy0L",
        "colab_type": "code",
        "outputId": "25628a4c-93b4-46cf-dbf0-c798e120aab3",
        "colab": {
          "base_uri": "https://localhost:8080/",
          "height": 1000
        }
      },
      "source": [
        "\n",
        "test_loss_array = []\n",
        "train_loss_array = []\n",
        "epochs = 200\n",
        "for k in range(epochs) :\n",
        "  if k > 70:\n",
        "    learning_rate = 0.3\n",
        "  elif k > 200:\n",
        "    learning_rate = 0.1\n",
        "  loss = train(batch_size = 100)\n",
        "  train_loss_array.append(loss)\n",
        "\n",
        "  feed_dict_test = {x: data.test.images,\n",
        "                  output_true: data.test.images}\n",
        "      # Run the model for test data\n",
        "  _, loss = session.run([optimizer, meansq], feed_dict=feed_dict_test)\n",
        "  print(\"Test loss at epoch :\", k, \"is : \", loss)\n",
        "  test_loss_array.append(loss)\n",
        "  \n",
        "a = np.linspace (1,epochs,epochs)\n",
        "\n",
        "plt.plot(a,test_loss_array)\n",
        "plt.xlabel(\"Epochs\")\n",
        "plt.ylabel(\"Loss on Test Data\")\n",
        "print(\"Final Test Loss is : \", test_loss_array[-1])\n",
        "plt.show()\n",
        "\n",
        "plt.plot(a,train_loss_array)\n",
        "plt.xlabel(\"Epochs\")\n",
        "plt.ylabel(\"Loss on Train Data\")\n",
        "print(\"Final Train Loss is : \", train_loss_array[-1])\n",
        "plt.show()\n",
        "  "
      ],
      "execution_count": 0,
      "outputs": [
        {
          "output_type": "stream",
          "text": [
            "Training loss is : 0.062178582\n",
            "Test loss at epoch : 0 is :  0.064678416\n",
            "Training loss is : 0.05072531\n",
            "Test loss at epoch : 1 is :  0.05100965\n",
            "Training loss is : 0.046603486\n",
            "Test loss at epoch : 2 is :  0.044041954\n",
            "Training loss is : 0.040438514\n",
            "Test loss at epoch : 3 is :  0.039601948\n",
            "Training loss is : 0.035036333\n",
            "Test loss at epoch : 4 is :  0.03637999\n",
            "Training loss is : 0.03358168\n",
            "Test loss at epoch : 5 is :  0.0336573\n",
            "Training loss is : 0.03140374\n",
            "Test loss at epoch : 6 is :  0.03126972\n",
            "Training loss is : 0.02830113\n",
            "Test loss at epoch : 7 is :  0.029231472\n",
            "Training loss is : 0.030176697\n",
            "Test loss at epoch : 8 is :  0.027570847\n",
            "Training loss is : 0.026907722\n",
            "Test loss at epoch : 9 is :  0.026130246\n",
            "Training loss is : 0.02590359\n",
            "Test loss at epoch : 10 is :  0.024923231\n",
            "Training loss is : 0.02516983\n",
            "Test loss at epoch : 11 is :  0.023826946\n",
            "Training loss is : 0.023566203\n",
            "Test loss at epoch : 12 is :  0.02287191\n",
            "Training loss is : 0.022158043\n",
            "Test loss at epoch : 13 is :  0.02193887\n",
            "Training loss is : 0.021483628\n",
            "Test loss at epoch : 14 is :  0.021110777\n",
            "Training loss is : 0.020051824\n",
            "Test loss at epoch : 15 is :  0.020256387\n",
            "Training loss is : 0.021744134\n",
            "Test loss at epoch : 16 is :  0.01949856\n",
            "Training loss is : 0.020592319\n",
            "Test loss at epoch : 17 is :  0.018761976\n",
            "Training loss is : 0.019192439\n",
            "Test loss at epoch : 18 is :  0.01808036\n",
            "Training loss is : 0.01696143\n",
            "Test loss at epoch : 19 is :  0.017455772\n",
            "Training loss is : 0.0162762\n",
            "Test loss at epoch : 20 is :  0.016889015\n",
            "Training loss is : 0.01698761\n",
            "Test loss at epoch : 21 is :  0.01637318\n",
            "Training loss is : 0.016597886\n",
            "Test loss at epoch : 22 is :  0.015898034\n",
            "Training loss is : 0.016015481\n",
            "Test loss at epoch : 23 is :  0.015477282\n",
            "Training loss is : 0.01541306\n",
            "Test loss at epoch : 24 is :  0.015110913\n",
            "Training loss is : 0.015504205\n",
            "Test loss at epoch : 25 is :  0.014769116\n",
            "Training loss is : 0.013438773\n",
            "Test loss at epoch : 26 is :  0.014459257\n",
            "Training loss is : 0.01510451\n",
            "Test loss at epoch : 27 is :  0.014188386\n",
            "Training loss is : 0.015168292\n",
            "Test loss at epoch : 28 is :  0.013932681\n",
            "Training loss is : 0.014767602\n",
            "Test loss at epoch : 29 is :  0.013704454\n",
            "Training loss is : 0.013441857\n",
            "Test loss at epoch : 30 is :  0.0135014\n",
            "Training loss is : 0.014802986\n",
            "Test loss at epoch : 31 is :  0.013313524\n",
            "Training loss is : 0.013208572\n",
            "Test loss at epoch : 32 is :  0.013134948\n",
            "Training loss is : 0.0131982295\n",
            "Test loss at epoch : 33 is :  0.012980108\n",
            "Training loss is : 0.013747077\n",
            "Test loss at epoch : 34 is :  0.012833007\n",
            "Training loss is : 0.013356713\n",
            "Test loss at epoch : 35 is :  0.012701347\n",
            "Training loss is : 0.012926393\n",
            "Test loss at epoch : 36 is :  0.0125806425\n",
            "Training loss is : 0.013760297\n",
            "Test loss at epoch : 37 is :  0.012465541\n",
            "Training loss is : 0.012344001\n",
            "Test loss at epoch : 38 is :  0.012367329\n",
            "Training loss is : 0.012636458\n",
            "Test loss at epoch : 39 is :  0.0122652985\n",
            "Training loss is : 0.01219587\n",
            "Test loss at epoch : 40 is :  0.012170645\n",
            "Training loss is : 0.012675924\n",
            "Test loss at epoch : 41 is :  0.012087018\n",
            "Training loss is : 0.011599296\n",
            "Test loss at epoch : 42 is :  0.012006888\n",
            "Training loss is : 0.0126187485\n",
            "Test loss at epoch : 43 is :  0.011927141\n",
            "Training loss is : 0.011687679\n",
            "Test loss at epoch : 44 is :  0.011847335\n",
            "Training loss is : 0.012350593\n",
            "Test loss at epoch : 45 is :  0.011785595\n",
            "Training loss is : 0.012272605\n",
            "Test loss at epoch : 46 is :  0.011713436\n",
            "Training loss is : 0.013338019\n",
            "Test loss at epoch : 47 is :  0.011652628\n",
            "Training loss is : 0.012176826\n",
            "Test loss at epoch : 48 is :  0.011595295\n",
            "Training loss is : 0.01044837\n",
            "Test loss at epoch : 49 is :  0.011532863\n",
            "Training loss is : 0.011699388\n",
            "Test loss at epoch : 50 is :  0.011480933\n",
            "Training loss is : 0.012679577\n",
            "Test loss at epoch : 51 is :  0.0114243375\n",
            "Training loss is : 0.011511009\n",
            "Test loss at epoch : 52 is :  0.011373914\n",
            "Training loss is : 0.011136119\n",
            "Test loss at epoch : 53 is :  0.011325036\n",
            "Training loss is : 0.011477957\n",
            "Test loss at epoch : 54 is :  0.011273539\n",
            "Training loss is : 0.011136575\n",
            "Test loss at epoch : 55 is :  0.011231161\n",
            "Training loss is : 0.010834665\n",
            "Test loss at epoch : 56 is :  0.011186739\n",
            "Training loss is : 0.010884947\n",
            "Test loss at epoch : 57 is :  0.01114355\n",
            "Training loss is : 0.012468911\n",
            "Test loss at epoch : 58 is :  0.0111063\n",
            "Training loss is : 0.0115023665\n",
            "Test loss at epoch : 59 is :  0.011067787\n",
            "Training loss is : 0.0118323425\n",
            "Test loss at epoch : 60 is :  0.011031491\n",
            "Training loss is : 0.01082013\n",
            "Test loss at epoch : 61 is :  0.011001728\n",
            "Training loss is : 0.011135783\n",
            "Test loss at epoch : 62 is :  0.010973815\n",
            "Training loss is : 0.011587838\n",
            "Test loss at epoch : 63 is :  0.010941149\n",
            "Training loss is : 0.010584762\n",
            "Test loss at epoch : 64 is :  0.010916957\n",
            "Training loss is : 0.011744686\n",
            "Test loss at epoch : 65 is :  0.010890513\n",
            "Training loss is : 0.0116261225\n",
            "Test loss at epoch : 66 is :  0.010862654\n",
            "Training loss is : 0.0114642875\n",
            "Test loss at epoch : 67 is :  0.010841513\n",
            "Training loss is : 0.011764877\n",
            "Test loss at epoch : 68 is :  0.010818145\n",
            "Training loss is : 0.011452782\n",
            "Test loss at epoch : 69 is :  0.010796139\n",
            "Training loss is : 0.011709481\n",
            "Test loss at epoch : 70 is :  0.010775551\n",
            "Training loss is : 0.011317045\n",
            "Test loss at epoch : 71 is :  0.010752228\n",
            "Training loss is : 0.011795202\n",
            "Test loss at epoch : 72 is :  0.010733298\n",
            "Training loss is : 0.010749443\n",
            "Test loss at epoch : 73 is :  0.010716042\n",
            "Training loss is : 0.011684575\n",
            "Test loss at epoch : 74 is :  0.010703223\n",
            "Training loss is : 0.010940872\n",
            "Test loss at epoch : 75 is :  0.010679526\n",
            "Training loss is : 0.011712912\n",
            "Test loss at epoch : 76 is :  0.010668069\n",
            "Training loss is : 0.011465202\n",
            "Test loss at epoch : 77 is :  0.010651013\n",
            "Training loss is : 0.010070125\n",
            "Test loss at epoch : 78 is :  0.0106364135\n",
            "Training loss is : 0.011486035\n",
            "Test loss at epoch : 79 is :  0.01062171\n",
            "Training loss is : 0.0098722745\n",
            "Test loss at epoch : 80 is :  0.010605792\n",
            "Training loss is : 0.010367353\n",
            "Test loss at epoch : 81 is :  0.010587847\n",
            "Training loss is : 0.011028141\n",
            "Test loss at epoch : 82 is :  0.010575672\n",
            "Training loss is : 0.012204946\n",
            "Test loss at epoch : 83 is :  0.010567406\n",
            "Training loss is : 0.010239597\n",
            "Test loss at epoch : 84 is :  0.010553224\n",
            "Training loss is : 0.010208093\n",
            "Test loss at epoch : 85 is :  0.010541259\n",
            "Training loss is : 0.010874944\n",
            "Test loss at epoch : 86 is :  0.010528422\n",
            "Training loss is : 0.010620427\n",
            "Test loss at epoch : 87 is :  0.010518889\n",
            "Training loss is : 0.011158201\n",
            "Test loss at epoch : 88 is :  0.0105038015\n",
            "Training loss is : 0.0106549645\n",
            "Test loss at epoch : 89 is :  0.010496572\n",
            "Training loss is : 0.010727598\n",
            "Test loss at epoch : 90 is :  0.0104816025\n",
            "Training loss is : 0.011626189\n",
            "Test loss at epoch : 91 is :  0.010481121\n",
            "Training loss is : 0.010987424\n",
            "Test loss at epoch : 92 is :  0.010461148\n",
            "Training loss is : 0.009570106\n",
            "Test loss at epoch : 93 is :  0.01045354\n",
            "Training loss is : 0.00998682\n",
            "Test loss at epoch : 94 is :  0.010444209\n",
            "Training loss is : 0.0107826805\n",
            "Test loss at epoch : 95 is :  0.01043389\n",
            "Training loss is : 0.01275118\n",
            "Test loss at epoch : 96 is :  0.010428844\n",
            "Training loss is : 0.011288573\n",
            "Test loss at epoch : 97 is :  0.010415327\n",
            "Training loss is : 0.011852239\n",
            "Test loss at epoch : 98 is :  0.010403004\n",
            "Training loss is : 0.010278614\n",
            "Test loss at epoch : 99 is :  0.010400941\n",
            "Training loss is : 0.011452229\n",
            "Test loss at epoch : 100 is :  0.0103955045\n",
            "Training loss is : 0.010380927\n",
            "Test loss at epoch : 101 is :  0.010386651\n",
            "Training loss is : 0.011336266\n",
            "Test loss at epoch : 102 is :  0.010375084\n",
            "Training loss is : 0.009316763\n",
            "Test loss at epoch : 103 is :  0.010370583\n",
            "Training loss is : 0.010137656\n",
            "Test loss at epoch : 104 is :  0.010352511\n",
            "Training loss is : 0.010583956\n",
            "Test loss at epoch : 105 is :  0.01034609\n",
            "Training loss is : 0.010183213\n",
            "Test loss at epoch : 106 is :  0.010340017\n",
            "Training loss is : 0.011187362\n",
            "Test loss at epoch : 107 is :  0.010331391\n",
            "Training loss is : 0.010595241\n",
            "Test loss at epoch : 108 is :  0.010325438\n",
            "Training loss is : 0.01138965\n",
            "Test loss at epoch : 109 is :  0.010317096\n",
            "Training loss is : 0.009696778\n",
            "Test loss at epoch : 110 is :  0.01031049\n",
            "Training loss is : 0.010657636\n",
            "Test loss at epoch : 111 is :  0.010313295\n",
            "Training loss is : 0.01073193\n",
            "Test loss at epoch : 112 is :  0.010297742\n",
            "Training loss is : 0.010482892\n",
            "Test loss at epoch : 113 is :  0.010287386\n",
            "Training loss is : 0.011160787\n",
            "Test loss at epoch : 114 is :  0.010283217\n",
            "Training loss is : 0.010755793\n",
            "Test loss at epoch : 115 is :  0.010277095\n",
            "Training loss is : 0.010724967\n",
            "Test loss at epoch : 116 is :  0.010269754\n",
            "Training loss is : 0.010124645\n",
            "Test loss at epoch : 117 is :  0.010262191\n",
            "Training loss is : 0.010484987\n",
            "Test loss at epoch : 118 is :  0.010253372\n",
            "Training loss is : 0.01112951\n",
            "Test loss at epoch : 119 is :  0.010254259\n",
            "Training loss is : 0.010588992\n",
            "Test loss at epoch : 120 is :  0.010248147\n",
            "Training loss is : 0.010014517\n",
            "Test loss at epoch : 121 is :  0.010235333\n",
            "Training loss is : 0.0099228155\n",
            "Test loss at epoch : 122 is :  0.010229784\n",
            "Training loss is : 0.011000574\n",
            "Test loss at epoch : 123 is :  0.010226897\n",
            "Training loss is : 0.0114747165\n",
            "Test loss at epoch : 124 is :  0.010221888\n",
            "Training loss is : 0.010559458\n",
            "Test loss at epoch : 125 is :  0.0102122575\n",
            "Training loss is : 0.009939562\n",
            "Test loss at epoch : 126 is :  0.010212621\n",
            "Training loss is : 0.009876054\n",
            "Test loss at epoch : 127 is :  0.010203666\n",
            "Training loss is : 0.01000237\n",
            "Test loss at epoch : 128 is :  0.010201459\n",
            "Training loss is : 0.009782017\n",
            "Test loss at epoch : 129 is :  0.0101949815\n",
            "Training loss is : 0.010089004\n",
            "Test loss at epoch : 130 is :  0.010183861\n",
            "Training loss is : 0.011158421\n",
            "Test loss at epoch : 131 is :  0.010180609\n",
            "Training loss is : 0.010748893\n",
            "Test loss at epoch : 132 is :  0.01017959\n",
            "Training loss is : 0.009120436\n",
            "Test loss at epoch : 133 is :  0.010165605\n",
            "Training loss is : 0.010971267\n",
            "Test loss at epoch : 134 is :  0.010160513\n",
            "Training loss is : 0.0105663175\n",
            "Test loss at epoch : 135 is :  0.010154725\n",
            "Training loss is : 0.010608932\n",
            "Test loss at epoch : 136 is :  0.010146115\n",
            "Training loss is : 0.010329269\n",
            "Test loss at epoch : 137 is :  0.010140629\n",
            "Training loss is : 0.010686413\n",
            "Test loss at epoch : 138 is :  0.010133415\n",
            "Training loss is : 0.011444147\n",
            "Test loss at epoch : 139 is :  0.010131765\n",
            "Training loss is : 0.010393049\n",
            "Test loss at epoch : 140 is :  0.0101214945\n",
            "Training loss is : 0.00974032\n",
            "Test loss at epoch : 141 is :  0.010115117\n",
            "Training loss is : 0.011153585\n",
            "Test loss at epoch : 142 is :  0.010116375\n",
            "Training loss is : 0.0112709915\n",
            "Test loss at epoch : 143 is :  0.010110051\n",
            "Training loss is : 0.010095759\n",
            "Test loss at epoch : 144 is :  0.010106068\n",
            "Training loss is : 0.011827759\n",
            "Test loss at epoch : 145 is :  0.010103266\n",
            "Training loss is : 0.010653924\n",
            "Test loss at epoch : 146 is :  0.010100174\n",
            "Training loss is : 0.009433836\n",
            "Test loss at epoch : 147 is :  0.010096997\n",
            "Training loss is : 0.011093626\n",
            "Test loss at epoch : 148 is :  0.010092298\n",
            "Training loss is : 0.0097596785\n",
            "Test loss at epoch : 149 is :  0.010082818\n",
            "Training loss is : 0.01066123\n",
            "Test loss at epoch : 150 is :  0.010081687\n",
            "Training loss is : 0.010332455\n",
            "Test loss at epoch : 151 is :  0.010079806\n",
            "Training loss is : 0.010636704\n",
            "Test loss at epoch : 152 is :  0.010069466\n",
            "Training loss is : 0.010100076\n",
            "Test loss at epoch : 153 is :  0.010070964\n",
            "Training loss is : 0.010320053\n",
            "Test loss at epoch : 154 is :  0.010068959\n",
            "Training loss is : 0.010943289\n",
            "Test loss at epoch : 155 is :  0.010064476\n",
            "Training loss is : 0.009861962\n",
            "Test loss at epoch : 156 is :  0.0100597795\n",
            "Training loss is : 0.010820812\n",
            "Test loss at epoch : 157 is :  0.010058121\n",
            "Training loss is : 0.009913411\n",
            "Test loss at epoch : 158 is :  0.010059111\n",
            "Training loss is : 0.009989572\n",
            "Test loss at epoch : 159 is :  0.010047025\n",
            "Training loss is : 0.009723107\n",
            "Test loss at epoch : 160 is :  0.010043015\n",
            "Training loss is : 0.009970809\n",
            "Test loss at epoch : 161 is :  0.010042082\n",
            "Training loss is : 0.0100429\n",
            "Test loss at epoch : 162 is :  0.010039262\n",
            "Training loss is : 0.0098964125\n",
            "Test loss at epoch : 163 is :  0.010033506\n",
            "Training loss is : 0.009700934\n",
            "Test loss at epoch : 164 is :  0.010027349\n",
            "Training loss is : 0.010540395\n",
            "Test loss at epoch : 165 is :  0.010024628\n",
            "Training loss is : 0.010335469\n",
            "Test loss at epoch : 166 is :  0.010014202\n",
            "Training loss is : 0.010401077\n",
            "Test loss at epoch : 167 is :  0.010011609\n",
            "Training loss is : 0.01094812\n",
            "Test loss at epoch : 168 is :  0.010012128\n",
            "Training loss is : 0.009772267\n",
            "Test loss at epoch : 169 is :  0.010004692\n",
            "Training loss is : 0.010347231\n",
            "Test loss at epoch : 170 is :  0.010001372\n",
            "Training loss is : 0.009968799\n",
            "Test loss at epoch : 171 is :  0.010003328\n",
            "Training loss is : 0.009183606\n",
            "Test loss at epoch : 172 is :  0.00999551\n",
            "Training loss is : 0.010959231\n",
            "Test loss at epoch : 173 is :  0.00999372\n",
            "Training loss is : 0.011226533\n",
            "Test loss at epoch : 174 is :  0.009988937\n",
            "Training loss is : 0.0092854\n",
            "Test loss at epoch : 175 is :  0.009988361\n",
            "Training loss is : 0.011275183\n",
            "Test loss at epoch : 176 is :  0.00998251\n",
            "Training loss is : 0.01013151\n",
            "Test loss at epoch : 177 is :  0.0099818995\n",
            "Training loss is : 0.01071784\n",
            "Test loss at epoch : 178 is :  0.009981765\n",
            "Training loss is : 0.010547974\n",
            "Test loss at epoch : 179 is :  0.009976029\n",
            "Training loss is : 0.0114122415\n",
            "Test loss at epoch : 180 is :  0.009970569\n",
            "Training loss is : 0.010455388\n",
            "Test loss at epoch : 181 is :  0.0099669425\n",
            "Training loss is : 0.009499845\n",
            "Test loss at epoch : 182 is :  0.009961531\n",
            "Training loss is : 0.01119931\n",
            "Test loss at epoch : 183 is :  0.009968747\n",
            "Training loss is : 0.011219117\n",
            "Test loss at epoch : 184 is :  0.009958604\n",
            "Training loss is : 0.010979235\n",
            "Test loss at epoch : 185 is :  0.009961107\n",
            "Training loss is : 0.010619022\n",
            "Test loss at epoch : 186 is :  0.009957854\n",
            "Training loss is : 0.008786204\n",
            "Test loss at epoch : 187 is :  0.009957337\n",
            "Training loss is : 0.010058348\n",
            "Test loss at epoch : 188 is :  0.009947887\n",
            "Training loss is : 0.010740625\n",
            "Test loss at epoch : 189 is :  0.009944754\n",
            "Training loss is : 0.010718765\n",
            "Test loss at epoch : 190 is :  0.009945293\n",
            "Training loss is : 0.011182864\n",
            "Test loss at epoch : 191 is :  0.009940515\n",
            "Training loss is : 0.0100201005\n",
            "Test loss at epoch : 192 is :  0.009946112\n",
            "Training loss is : 0.010409556\n",
            "Test loss at epoch : 193 is :  0.009940551\n",
            "Training loss is : 0.0104547795\n",
            "Test loss at epoch : 194 is :  0.009934347\n",
            "Training loss is : 0.01001642\n",
            "Test loss at epoch : 195 is :  0.009931798\n",
            "Training loss is : 0.011264467\n",
            "Test loss at epoch : 196 is :  0.009936363\n",
            "Training loss is : 0.010962082\n",
            "Test loss at epoch : 197 is :  0.009927308\n",
            "Training loss is : 0.011488979\n",
            "Test loss at epoch : 198 is :  0.009924189\n",
            "Training loss is : 0.011482197\n",
            "Test loss at epoch : 199 is :  0.009922458\n",
            "Final Test Loss is :  0.009922458\n"
          ],
          "name": "stdout"
        },
        {
          "output_type": "display_data",
          "data": {
            "image/png": "[encoded data removed]",
            "text/plain": [
              "<Figure size 432x288 with 1 Axes>"
            ]
          },
          "metadata": {
            "tags": []
          }
        },
        {
          "output_type": "stream",
          "text": [
            "Final Train Loss is :  0.010267617\n"
          ],
          "name": "stdout"
        },
        {
          "output_type": "display_data",
          "data": {
            "image/png": "[encoded data removed]",
            "text/plain": [
              "<Figure size 432x288 with 1 Axes>"
            ]
          },
          "metadata": {
            "tags": []
          }
        }
      ]
    },
    {
      "cell_type": "markdown",
      "metadata": {
        "id": "9SBEVMDIeCU9",
        "colab_type": "text"
      },
      "source": [
        "VISUALIZE"
      ]
    },
    {
      "cell_type": "code",
      "metadata": {
        "id": "_97Tu6CNeDj8",
        "colab_type": "code",
        "outputId": "6abdfe3a-d025-4678-9fd9-feefe3b51fab",
        "colab": {
          "base_uri": "https://localhost:8080/",
          "height": 1000
        }
      },
      "source": [
        "indexes = np.random.randint(low=1, high=1000,size=10)\n",
        "for i in range(len(indexes)):\n",
        "    output_test_image = session.run(output_layer,\n",
        "                      feed_dict={x: [data.test.images[indexes[i]]]}) \n",
        "        # Reshape sample from 784 to 28x28\n",
        "    reshaped_sample = np.reshape(output_test_image, newshape=(28,28)) \n",
        "    # Plot reshaped sample image using grayscale color map\n",
        "    plt.figure()\n",
        "    plt.imshow(reshaped_sample) \n",
        "\n",
        "    # Reshape sample from 784 to 28x28\n",
        "    reshaped_sample = np.reshape(data.test.images[indexes[i]], newshape=(28,28)) \n",
        "    # Plot reshaped sample image using grayscale color map\n",
        "    plt.figure()\n",
        "    plt.imshow(reshaped_sample) \n"
      ],
      "execution_count": 0,
      "outputs": [
        {
          "output_type": "display_data",
          "data": {
            "image/png": "[encoded data removed]",
            "text/plain": [
              "<Figure size 432x288 with 1 Axes>"
            ]
          },
          "metadata": {
            "tags": []
          }
        },
        {
          "output_type": "display_data",
          "data": {
            "image/png": "[encoded data removed]",
            "text/plain": [
              "<Figure size 432x288 with 1 Axes>"
            ]
          },
          "metadata": {
            "tags": []
          }
        },
        {
          "output_type": "display_data",
          "data": {
            "image/png": "[encoded data removed]",
            "text/plain": [
              "<Figure size 432x288 with 1 Axes>"
            ]
          },
          "metadata": {
            "tags": []
          }
        },
        {
          "output_type": "display_data",
          "data": {
            "image/png": "[encoded data removed]",
            "text/plain": [
              "<Figure size 432x288 with 1 Axes>"
            ]
          },
          "metadata": {
            "tags": []
          }
        },
        {
          "output_type": "display_data",
          "data": {
            "image/png": "[encoded data removed]",
            "text/plain": [
              "<Figure size 432x288 with 1 Axes>"
            ]
          },
          "metadata": {
            "tags": []
          }
        },
        {
          "output_type": "display_data",
          "data": {
            "image/png": "[encoded data removed]",
            "text/plain": [
              "<Figure size 432x288 with 1 Axes>"
            ]
          },
          "metadata": {
            "tags": []
          }
        },
        {
          "output_type": "display_data",
          "data": {
            "image/png": "[encoded data removed]",
            "text/plain": [
              "<Figure size 432x288 with 1 Axes>"
            ]
          },
          "metadata": {
            "tags": []
          }
        },
        {
          "output_type": "display_data",
          "data": {
            "image/png": "[encoded data removed]",
            "text/plain": [
              "<Figure size 432x288 with 1 Axes>"
            ]
          },
          "metadata": {
            "tags": []
          }
        },
        {
          "output_type": "display_data",
          "data": {
            "image/png": "[encoded data removed]",
            "text/plain": [
              "<Figure size 432x288 with 1 Axes>"
            ]
          },
          "metadata": {
            "tags": []
          }
        },
        {
          "output_type": "display_data",
          "data": {
            "image/png": "[encoded data removed]",
            "text/plain": [
              "<Figure size 432x288 with 1 Axes>"
            ]
          },
          "metadata": {
            "tags": []
          }
        },
        {
          "output_type": "display_data",
          "data": {
            "image/png": "[encoded data removed]",
            "text/plain": [
              "<Figure size 432x288 with 1 Axes>"
            ]
          },
          "metadata": {
            "tags": []
          }
        },
        {
          "output_type": "display_data",
          "data": {
            "image/png": "[encoded data removed]",
            "text/plain": [
              "<Figure size 432x288 with 1 Axes>"
            ]
          },
          "metadata": {
            "tags": []
          }
        },
        {
          "output_type": "display_data",
          "data": {
            "image/png": "[encoded data removed]",
            "text/plain": [
              "<Figure size 432x288 with 1 Axes>"
            ]
          },
          "metadata": {
            "tags": []
          }
        },
        {
          "output_type": "display_data",
          "data": {
            "image/png": "[encoded data removed]",
            "text/plain": [
              "<Figure size 432x288 with 1 Axes>"
            ]
          },
          "metadata": {
            "tags": []
          }
        },
        {
          "output_type": "display_data",
          "data": {
            "image/png": "[encoded data removed]",
            "text/plain": [
              "<Figure size 432x288 with 1 Axes>"
            ]
          },
          "metadata": {
            "tags": []
          }
        },
        {
          "output_type": "display_data",
          "data": {
            "image/png": "[encoded data removed]",
            "text/plain": [
              "<Figure size 432x288 with 1 Axes>"
            ]
          },
          "metadata": {
            "tags": []
          }
        },
        {
          "output_type": "display_data",
          "data": {
            "image/png": "[encoded data removed]",
            "text/plain": [
              "<Figure size 432x288 with 1 Axes>"
            ]
          },
          "metadata": {
            "tags": []
          }
        },
        {
          "output_type": "display_data",
          "data": {
            "image/png": "[encoded data removed]",
            "text/plain": [
              "<Figure size 432x288 with 1 Axes>"
            ]
          },
          "metadata": {
            "tags": []
          }
        },
        {
          "output_type": "display_data",
          "data": {
            "image/png": "[encoded data removed]",
            "text/plain": [
              "<Figure size 432x288 with 1 Axes>"
            ]
          },
          "metadata": {
            "tags": []
          }
        },
        {
          "output_type": "display_data",
          "data": {
            "image/png": "[encoded data removed]",
            "text/plain": [
              "<Figure size 432x288 with 1 Axes>"
            ]
          },
          "metadata": {
            "tags": []
          }
        }
      ]
    },
    {
      "cell_type": "code",
      "metadata": {
        "id": "Ror7SsOJlIQg",
        "colab_type": "code",
        "colab": {}
      },
      "source": [
        ""
      ],
      "execution_count": 0,
      "outputs": []
    },
    {
      "cell_type": "code",
      "metadata": {
        "id": "8_lrSOtIl8nl",
        "colab_type": "code",
        "colab": {}
      },
      "source": [
        "session.close()"
      ],
      "execution_count": 0,
      "outputs": []
    },
    {
      "cell_type": "markdown",
      "metadata": {
        "id": "Y73i55Iwl8nn",
        "colab_type": "text"
      },
      "source": [
        "## References\n",
        "\n",
        "[1] https://medium.com/@connectwithghosh/simple-autoencoder-example-using-tensorflow-in-python-on-the-fashion-mnist-dataset-eee63b8ed9f1\n",
        "\n",
        "[2] https://gertjanvandenburg.com/blog/autoencoder/\n",
        "\n",
        "[3] https://github.com/aymericdamien/TensorFlow-Examples/blob/master/examples/3_NeuralNetworks/autoencoder.py\n"
      ]
    }
  ]
}